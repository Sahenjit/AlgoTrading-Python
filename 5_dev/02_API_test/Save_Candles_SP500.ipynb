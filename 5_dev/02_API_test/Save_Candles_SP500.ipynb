{
 "cells": [
  {
   "cell_type": "code",
   "execution_count": 1,
   "metadata": {},
   "outputs": [],
   "source": [
    "import requests\n",
    "import defs\n",
    "import pandas as pd\n",
    "import pickle\n",
    "from tabulate import tabulate"
   ]
  },
  {
   "cell_type": "code",
   "execution_count": 2,
   "metadata": {},
   "outputs": [],
   "source": [
    "session = requests.Session()"
   ]
  },
  {
   "cell_type": "code",
   "execution_count": 3,
   "metadata": {},
   "outputs": [],
   "source": [
    "Index = ['SPX500_USD'] #The API name for retreiving S & P 500 index data from the Oanda website."
   ]
  },
  {
   "cell_type": "code",
   "execution_count": 4,
   "metadata": {},
   "outputs": [],
   "source": [
    "def fetch_candles(Index_name, count, granularity): #Function returns the data from the Oanda website based on Index type\n",
    "    url = f\"{defs.OANDA_URL}/instruments/{Index_name}/candles\"\n",
    "    params = dict(\n",
    "        count = count,\n",
    "        granularity = granularity,\n",
    "        price = \"MBA\"\n",
    "    )\n",
    "    response = session.get(url, params = params, headers = defs.SECURE_HEADER)\n",
    "    return response.status_code, response.json()"
   ]
  },
  {
   "cell_type": "code",
   "execution_count": 5,
   "metadata": {},
   "outputs": [],
   "source": [
    "def get_price(dictionary,prices,ohlc,candle): #Function returns the dictionary for candles for mid, ask and bid prices.\n",
    "    for price in prices:\n",
    "        for oh in ohlc:\n",
    "            dictionary[f\"{price}_{oh}\"] = candle[price][oh]"
   ]
  },
  {
   "cell_type": "code",
   "execution_count": 6,
   "metadata": {},
   "outputs": [],
   "source": [
    "def get_candles_df(json_response):# Creates a dataframe for the candles data on a given Index type\n",
    "    \n",
    "    prices = ['mid', 'bid', 'ask']\n",
    "    ohlc = ['o','h','l','c']\n",
    "    \n",
    "    our_data= []\n",
    "    for candle in json_response['candles']:\n",
    "        if candle['complete'] == False:\n",
    "            continue\n",
    "        new_dict = {}\n",
    "        new_dict['time'] = candle['time']\n",
    "        new_dict['volume'] = candle['volume']\n",
    "        price = get_price(new_dict,prices,ohlc,candle)\n",
    "        our_data.append(new_dict)\n",
    "    return pd.DataFrame.from_dict(our_data)"
   ]
  },
  {
   "cell_type": "code",
   "execution_count": 7,
   "metadata": {},
   "outputs": [],
   "source": [
    "def save_file(candles_df, Index_type, granularity):#Saves Files to a pickle document\n",
    "    candles_df.to_pickle(f\"{Index_type}_{granularity}.pkl\")"
   ]
  },
  {
   "cell_type": "code",
   "execution_count": 8,
   "metadata": {},
   "outputs": [],
   "source": [
    "def create_data(Index_type, count, granularity):\n",
    "    code, json_data = fetch_candles(Index_type,count,granularity)\n",
    "    if code != 200:\n",
    "        print(pair,\"Error\")\n",
    "        return\n",
    "    df = get_candles_df(json_data)\n",
    "    print(df)\n",
    "    print(f\"{Index_type} loaded {df.shape[0]} candles from {df.time.min()} to {df.time.max()}\")\n",
    "    save_file(df,Index_type,granularity)"
   ]
  },
  {
   "cell_type": "code",
   "execution_count": 17,
   "metadata": {},
   "outputs": [
    {
     "name": "stdout",
     "output_type": "stream",
     "text": [
      "                                time  volume   mid_o   mid_h   mid_l   mid_c  \\\n",
      "0     2003-03-23T22:00:00.000000000Z     823   882.7   883.2   861.9   864.4   \n",
      "1     2003-03-24T22:00:00.000000000Z     815   863.4   880.4   857.6   874.2   \n",
      "2     2003-03-25T22:00:00.000000000Z     791   874.4   876.7   866.6   869.6   \n",
      "3     2003-03-26T22:00:00.000000000Z     770   867.6   874.9   858.1   868.9   \n",
      "4     2003-03-27T22:00:00.000000000Z     787   870.1   870.4   860.8   863.9   \n",
      "...                              ...     ...     ...     ...     ...     ...   \n",
      "4718  2021-04-28T21:00:00.000000000Z   72763  4194.0  4220.0  4177.2  4209.2   \n",
      "4719  2021-04-29T21:00:00.000000000Z   85459  4209.3  4210.1  4176.4  4189.0   \n",
      "4720  2021-05-02T21:00:00.000000000Z   59419  4192.4  4211.4  4190.2  4192.6   \n",
      "4721  2021-05-03T21:00:00.000000000Z  112144  4192.8  4194.3  4129.6  4167.0   \n",
      "4722  2021-05-04T21:00:00.000000000Z   60654  4167.8  4188.8  4162.0  4167.0   \n",
      "\n",
      "       bid_o   bid_h   bid_l   bid_c   ask_o   ask_h   ask_l   ask_c  \n",
      "0      882.7   883.2   861.9   864.4   882.7   883.2   861.9   864.4  \n",
      "1      863.4   880.4   857.6   874.2   863.4   880.4   857.6   874.2  \n",
      "2      874.4   876.7   866.6   869.6   874.4   876.7   866.6   869.6  \n",
      "3      867.6   874.9   858.1   868.9   867.6   874.9   858.1   868.9  \n",
      "4      870.1   870.4   860.8   863.9   870.1   870.4   860.8   863.9  \n",
      "...      ...     ...     ...     ...     ...     ...     ...     ...  \n",
      "4718  4193.7  4219.9  4177.1  4209.0  4194.3  4220.2  4177.4  4209.4  \n",
      "4719  4209.1  4209.9  4176.1  4188.8  4209.5  4210.3  4176.5  4189.2  \n",
      "4720  4192.1  4211.2  4190.0  4192.4  4192.7  4211.5  4190.3  4192.8  \n",
      "4721  4192.6  4194.1  4129.4  4166.8  4193.0  4194.6  4129.8  4167.2  \n",
      "4722  4167.6  4188.6  4161.9  4166.8  4168.0  4189.0  4162.2  4167.2  \n",
      "\n",
      "[4723 rows x 14 columns]\n",
      "SPX500_USD loaded 4723 candles from 2003-03-23T22:00:00.000000000Z to 2021-05-04T21:00:00.000000000Z\n"
     ]
    }
   ],
   "source": [
    "try:\n",
    "    create_data(Index[0],4900,\"D\")\n",
    "except:\n",
    "    print(\"Caught it!\")"
   ]
  },
  {
   "cell_type": "code",
   "execution_count": 19,
   "metadata": {},
   "outputs": [],
   "source": [
    "with open(\"SPX500_USD_D.pkl\", \"rb\") as f:\n",
    "    object = pickle.load(f)\n",
    "    \n",
    "df = pd.DataFrame(object)\n",
    "df.to_csv(r'SPX500_Data.csv')"
   ]
  },
  {
   "cell_type": "code",
   "execution_count": null,
   "metadata": {},
   "outputs": [],
   "source": []
  }
 ],
 "metadata": {
  "kernelspec": {
   "display_name": "Python 3",
   "language": "python",
   "name": "python3"
  },
  "language_info": {
   "codemirror_mode": {
    "name": "ipython",
    "version": 3
   },
   "file_extension": ".py",
   "mimetype": "text/x-python",
   "name": "python",
   "nbconvert_exporter": "python",
   "pygments_lexer": "ipython3",
   "version": "3.8.5"
  }
 },
 "nbformat": 4,
 "nbformat_minor": 4
}
