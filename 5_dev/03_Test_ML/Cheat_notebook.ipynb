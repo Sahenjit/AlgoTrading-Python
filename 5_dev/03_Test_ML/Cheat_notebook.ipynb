{
 "cells": [
  {
   "cell_type": "code",
   "execution_count": null,
   "metadata": {},
   "outputs": [],
   "source": [
    "#Python cheat notebook"
   ]
  },
  {
   "cell_type": "code",
   "execution_count": null,
   "metadata": {},
   "outputs": [],
   "source": [
    "# Variables\n",
    "age = 10 #int\n",
    "price = 4.99 #float\n",
    "text = \"Hello World of 'Python'\" #string\n",
    "is_valid = True # bool\n",
    "print(age)\n",
    "print(price)\n",
    "print(text)\n",
    "print(is_valid )"
   ]
  },
  {
   "cell_type": "code",
   "execution_count": null,
   "metadata": {},
   "outputs": [],
   "source": [
    "#Strings\n",
    "print(text[0]) # returns the first character\n",
    "print(text[1]) # returns the second character\n",
    "print(text[-1]) # returns the first character from the end \n",
    "print(text[-2]) # returns the second character from the end\n",
    "print(text[1:5])\n",
    "name = \"camilo\"\n",
    "message= f'Hello {name}'\n",
    "print(message)\n",
    "print(message.upper())\n",
    "print(message.lower())\n",
    "print(message.title())\n",
    "print(message.find(' '))\n",
    "print(message.replace(' ','-'))\n",
    "print('python' in text )\n",
    "print('Python' in text )"
   ]
  },
  {
   "cell_type": "code",
   "execution_count": null,
   "metadata": {},
   "outputs": [],
   "source": [
    "#Arithmetic Operations\n",
    "a=347\n",
    "b=5\n",
    "\n",
    "print(a+b)\n",
    "print(a-b)\n",
    "print(a*b)\n",
    "print(a/b)\n",
    "print(a//b)\n",
    "print(b**2)\n",
    "b=b+10\n",
    "print(b)\n",
    "b+=10\n",
    "print(b)"
   ]
  },
  {
   "cell_type": "code",
   "execution_count": null,
   "metadata": {},
   "outputs": [],
   "source": [
    "#Receiving Input\n",
    "age = int(input(\"Age: \"))\n",
    "sex = input(\"Sex: \")"
   ]
  },
  {
   "cell_type": "code",
   "execution_count": null,
   "metadata": {},
   "outputs": [],
   "source": [
    "#If Statements an logical operators and or not\n",
    "if age<13:\n",
    "    print('Kid')\n",
    "elif age <20:\n",
    "    print('Teen')\n",
    "else:\n",
    "    print('Adult')\n",
    "\n",
    "if age<13 and sex == \"female\": \n",
    "    print('Girl')\n",
    "\n",
    "print(not is_valid)\n",
    "\n",
    "# Comparison operators\n",
    "a > b\n",
    "a >= b #greater than or equal to\n",
    "a < b\n",
    "a <= b\n",
    "a == b # equals\n",
    "a != b # not equals\n",
    "    "
   ]
  },
  {
   "cell_type": "code",
   "execution_count": null,
   "metadata": {},
   "outputs": [],
   "source": [
    "# Loops\n",
    "i = 1\n",
    "while i < 5:\n",
    "    print(\"w-loop : \", i)\n",
    "    i += 1\n",
    "    \n",
    "for j in range(10, 15): \n",
    "    print(\"f-loop : \", j)"
   ]
  },
  {
   "cell_type": "code",
   "execution_count": null,
   "metadata": {},
   "outputs": [],
   "source": [
    "# Data structures\n",
    "#Lists\n",
    "print(\"\\n\\nList Examples:\\n\")\n",
    "numbers = [1, 6, 5, 4, 3, 7, 2, 8, 10]\n",
    "print(numbers)\n",
    "print(numbers[0])# returns the first item \n",
    "print(numbers[1]) # returns the second item\n",
    "print(numbers[-1]) # returns the first item from the end\n",
    "print(numbers[-2]) # returns the second item from the end \n",
    "numbers.append(11) # adds 6 to the end\n",
    "print(numbers)\n",
    "numbers.insert(8, 9) # adds 9 at index position 8\n",
    "print(numbers)\n",
    "numbers.remove(6) # removes 6\n",
    "print(numbers)\n",
    "numbers.pop() # removes the last item\n",
    "print(numbers)\n",
    "print(numbers.index(8)) # returns the index of first occurrence of 8\n",
    "numbers.sort()# sorts the list\n",
    "print(numbers)\n",
    "numbers.reverse() # reverses the list\n",
    "print(numbers)\n",
    "#numbers.copy() # returns a copy of the list\n",
    "#numbers.clear() # removes all the items\n",
    "\n",
    "#Tuples\n",
    "print(\"\\n\\nTuples Examples:\\n\")\n",
    "countries=('bra','col','per') \n",
    "print(countries)\n",
    "print(countries[0])\n",
    "#countries[0]=\"ger\" #'tuple' object does not support item assignment\n",
    "co_1,co_2,co_3=countries\n",
    "print(co_3)\n",
    "\n",
    "#Dictionaries to store key-value pairs.\n",
    "print(\"\\n\\nDictionaries Examples:\\n\")\n",
    "user ={\n",
    "    \"name\":\"Camilo Blanco\",\n",
    "    \"age\":38,\n",
    "    \"is_valid\":True\n",
    "}\n",
    "print(user)\n",
    "print(user[\"name\"])\n",
    "print(user[\"age\"])"
   ]
  },
  {
   "cell_type": "code",
   "execution_count": null,
   "metadata": {},
   "outputs": [],
   "source": [
    "#Python Standard Library\n",
    "import random\n",
    "print(random.random()) # returns a float between 0 to 1\n",
    "\n",
    "for i in range(1,10):\n",
    "    print(random.randint(0, 10)) # returns an int between 1 to 6 \n",
    "\n",
    "members = [\"John\", \"Bob\", \"Mary\"]\n",
    "leader = random.choice(members) # randomly picks an item\n",
    "print(leader)"
   ]
  },
  {
   "cell_type": "code",
   "execution_count": null,
   "metadata": {},
   "outputs": [],
   "source": [
    "#Functions\n",
    "\n",
    "name=\"Camilo\"\n",
    "last_name=\"Blanco\"\n",
    "\n",
    "def greet_user(name,last_name):  #Parameters are passed using Call-by-Object\n",
    "    print(f\"Hello {name} {last_name}\")\n",
    "    return len (name),len (last_name)\n",
    "    \n",
    "name_len , last_name_len = greet_user (name,last_name) #positional arguments\n",
    "\n",
    "print(\"The name\",name ,\"has\" ,name_len, \"Caracters\")\n",
    "print(\"The lastname\",last_name ,\"has\" ,last_name_len, \"Caracters\")\n",
    "\n",
    "greet_user (last_name=\"Rodriguez\", name =\"Fabio\") # Keyword arguments"
   ]
  },
  {
   "cell_type": "code",
   "execution_count": null,
   "metadata": {},
   "outputs": [],
   "source": [
    "#Exceptions\n",
    "try: \n",
    "    age = int(input(\"Age: \"))\n",
    "    income = 20000\n",
    "    risk = income / age \n",
    "    print(age)\n",
    "except ValueError:\n",
    "    print(\"Not a valid number\")\n",
    "except ZeroDivisionError:\n",
    "    print(\"Age cannot be 0\")"
   ]
  },
  {
   "cell_type": "code",
   "execution_count": null,
   "metadata": {},
   "outputs": [],
   "source": [
    "#Clases\n",
    "\n",
    "class Point: \n",
    "    #Constructor\n",
    "    def __init__(self, x, y): \n",
    "        self.x = x\n",
    "        self.y = y \n",
    "    #Member functions\n",
    "    def disp(self): \n",
    "        print(\"x:\", self.x,\",\",\"y:\", self.y) \n",
    "\n",
    "point1=Point (10,5)\n",
    "point1.disp()\n",
    "point2=Point (3,8)\n",
    "point2.disp()"
   ]
  }
 ],
 "metadata": {
  "kernelspec": {
   "display_name": "Python 3",
   "language": "python",
   "name": "python3"
  },
  "language_info": {
   "codemirror_mode": {
    "name": "ipython",
    "version": 3
   },
   "file_extension": ".py",
   "mimetype": "text/x-python",
   "name": "python",
   "nbconvert_exporter": "python",
   "pygments_lexer": "ipython3",
   "version": "3.8.5"
  }
 },
 "nbformat": 4,
 "nbformat_minor": 4
}
