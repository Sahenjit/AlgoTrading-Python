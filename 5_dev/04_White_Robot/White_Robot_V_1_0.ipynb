{
 "cells": [
  {
   "cell_type": "raw",
   "metadata": {},
   "source": [
    "###################################################################################################\n",
    "# Project: AlgoTrading Jorge, David, Camilo, Shanka\n",
    "#          \n",
    "# Lenguaje    : Python / jupyter\n",
    "# Description : First simple trading robot\n",
    "#\n",
    "# References  : https://developer.mozilla.org/en-US/docs/Web/CSS/color_value\n",
    "#               https://plotly.com/python/subplots/\n",
    "# Git Control : https://github.com/camiloblanco/AlgoTrading\n",
    "# Author      : Sahenjit Paul - Camilo Blanco Vargas - Year: 2021 \n",
    "# Mail        : shanks.p.95@gmail.com -:mail@camiloblanco.com \n",
    "###################################################################################################"
   ]
  },
  {
   "cell_type": "markdown",
   "metadata": {},
   "source": [
    "# Load classes and test Oanda Account"
   ]
  },
  {
   "cell_type": "code",
   "execution_count": null,
   "metadata": {},
   "outputs": [],
   "source": [
    "# Import the necesary libraries\n",
    "import pandas as pd\n",
    "import requests\n",
    "import numpy as np\n",
    "import matplotlib.pyplot as plt\n",
    "from plotly.subplots import make_subplots\n",
    "import plotly.graph_objects as go\n",
    "from datetime import timedelta\n",
    "import Oanda_Manager as om\n",
    "import Signal_Gen as sg\n",
    "import White_Strategy as ws\n",
    "import Market_Simulator as MS\n",
    "from Signal_Gen import Signal_Gen\n",
    "from dateutil.relativedelta import relativedelta\n",
    "from datetime import date\n",
    "from datetime import timedelta\n",
    "from pandas.tseries.offsets import BDay"
   ]
  },
  {
   "cell_type": "code",
   "execution_count": null,
   "metadata": {},
   "outputs": [],
   "source": [
    "# Create an Oanda_Manager object to connect to Oanda API\n",
    "Account_details_file = 'Account_details.csv'\n",
    "oandaAcc =  om.Oanda_Manager(Account_details_file)\n",
    "print(oandaAcc.account_list())"
   ]
  },
  {
   "cell_type": "markdown",
   "metadata": {},
   "source": [
    "# Use Oanda_Manage.py to retrieve the historical data"
   ]
  },
  {
   "cell_type": "code",
   "execution_count": null,
   "metadata": {},
   "outputs": [],
   "source": [
    "# Retrieve the index data as a time-series dataframe usign an arbitrary date range \n",
    "#https://developer.oanda.com/rest-live-v20/instrument-df/#CandlestickGranularity\n",
    "asset_name=\"SPX500_USD\"\n",
    "granularity=\"H4\"\n",
    "#granularity=\"M\"\n",
    "from_date = pd.to_datetime('1-1-2003')\n",
    "to_date =  pd.to_datetime(date.today())\n",
    "candle_data = oandaAcc.get_all_candles_data(asset_name, granularity, from_date, to_date)\n",
    "candle_data.tail()"
   ]
  },
  {
   "cell_type": "code",
   "execution_count": null,
   "metadata": {},
   "outputs": [],
   "source": [
    "# Describe the data\n",
    "index_stats = candle_data.describe()\n",
    "index_stats = index_stats.transpose()\n",
    "index_stats"
   ]
  },
  {
   "cell_type": "code",
   "execution_count": null,
   "metadata": {},
   "outputs": [],
   "source": [
    "# Retrieve and Plot the medium closing price\n",
    "SPX500_USD_H4 = candle_data['mid_c']\n",
    "sp500_data = go.Scatter(x=SPX500_USD_H4.index, y=SPX500_USD_H4)\n",
    "layout = go.Layout(title='Price Plot', xaxis=dict(title='Date'), yaxis=dict(title='price'))\n",
    "fig = go.Figure(data=[sp500_data], layout=layout)\n",
    "fig.show()"
   ]
  },
  {
   "cell_type": "code",
   "execution_count": null,
   "metadata": {},
   "outputs": [],
   "source": [
    "#Store the cleanned data in the requested file\n",
    "fileName= \"SPX500_USD_H4.CSV\"\n",
    "oandaAcc.save_CSV_file(candle_data,SPX500_USD_H4,fileName)"
   ]
  },
  {
   "cell_type": "markdown",
   "metadata": {},
   "source": [
    "# Generate the signals and store them in a CSV file"
   ]
  },
  {
   "cell_type": "code",
   "execution_count": null,
   "metadata": {},
   "outputs": [],
   "source": [
    "#Create a Signal_Gen object with the stored file\n",
    "fileName= \"SPX500_USD_H4.CSV\"\n",
    "Signal_Generator = Signal_Gen(fileName)\n",
    "SPX500_H4_signals=Signal_Generator.series\n",
    "SPX500_H4_signals.head()"
   ]
  },
  {
   "cell_type": "code",
   "execution_count": null,
   "metadata": {},
   "outputs": [],
   "source": [
    "# Calculate the moving averages 14 21 40\n",
    "rolling_window=14\n",
    "SPX500_H4_signals = Signal_Generator.Simple_moving_average(rolling_window, 'SMA_14')\n",
    "rolling_window=21\n",
    "SPX500_H4_signals = Signal_Generator.Simple_moving_average(rolling_window, 'SMA_21')\n",
    "rolling_window=40\n",
    "SPX500_H4_signals = Signal_Generator.Simple_moving_average(rolling_window, 'SMA_40')\n",
    "# Calculate the slope with three months window 6*90 =540\n",
    "rolling_window=540\n",
    "SPX500_H4_signals = Signal_Generator.moving_slope(rolling_window, 'Slope_540')"
   ]
  },
  {
   "cell_type": "code",
   "execution_count": null,
   "metadata": {},
   "outputs": [],
   "source": [
    "# Plot the index and the generated signals\n",
    "\n",
    "fig = make_subplots(rows=2, cols=1, shared_xaxes=True, vertical_spacing=0.02)\n",
    "\n",
    "fig.add_trace(go.Scatter(x=SPX500_H4_signals.index, y=SPX500_H4_signals.mid_c,\n",
    "                    mode='lines', name='Close Price', line=dict(color='dimgrey', width=2)), row=1, col=1)\n",
    "fig.add_trace(go.Scatter(x=SPX500_H4_signals.index, y=SPX500_H4_signals.SMA_14,\n",
    "                    mode='lines', name='SMA_14', line=dict(color='crimson', width=1)), row=1, col=1)\n",
    "fig.add_trace(go.Scatter(x=SPX500_H4_signals.index, y=SPX500_H4_signals.SMA_21,\n",
    "                    mode='lines', name='SMA_21', line=dict(color='darkgreen', width=1)), row=1, col=1)\n",
    "fig.add_trace(go.Scatter(x=SPX500_H4_signals.index, y=SPX500_H4_signals.SMA_40,\n",
    "                    mode='lines', name='SMA_40', line=dict(color='cornflowerblue', width=1)), row=1, col=1)\n",
    "fig.add_trace(go.Scatter(x=SPX500_H4_signals.index, y=SPX500_H4_signals.Slope_540,\n",
    "                    mode='lines',name='Slope_540',line=dict(color='darkorange', width=2)), row=2, col=1)\n",
    "\n",
    "fig.update_layout(autosize=False, width=1100,height=600)\n",
    "\n",
    "fig.show()"
   ]
  },
  {
   "cell_type": "code",
   "execution_count": null,
   "metadata": {},
   "outputs": [],
   "source": [
    "#Store the signals in the requested file\n",
    "fileName= \"SPX500_H4_SIGNALS.CSV\"\n",
    "Signal_Generator.save_CSV_file(SPX500_H4_signals,fileName)"
   ]
  },
  {
   "cell_type": "markdown",
   "metadata": {},
   "source": [
    "# Execute the white robot strategy"
   ]
  },
  {
   "cell_type": "code",
   "execution_count": null,
   "metadata": {},
   "outputs": [],
   "source": [
    "fileName= \"SPX500_H4_SIGNALS.CSV\"\n",
    "White_Strat  = ws.White_Strategy(fileName)\n",
    "#White_Strat.series.tail()"
   ]
  },
  {
   "cell_type": "code",
   "execution_count": null,
   "metadata": {},
   "outputs": [],
   "source": [
    "order_book = White_Strat.simple_white_strat()"
   ]
  },
  {
   "cell_type": "code",
   "execution_count": null,
   "metadata": {},
   "outputs": [],
   "source": [
    "#Store the signals in the requested file\n",
    "fileName= \"WR_ORDER_BOOK.CSV\"\n",
    "White_Strat.save_CSV_file(order_book,fileName)\n",
    "oder_book.tail()"
   ]
  },
  {
   "cell_type": "markdown",
   "metadata": {},
   "source": [
    "# Run Market Simulator - White Robot"
   ]
  },
  {
   "cell_type": "code",
   "execution_count": null,
   "metadata": {},
   "outputs": [],
   "source": [
    "order_book = pd.read_csv(fileName)\n",
    "Cash = 10000\n",
    "MS = MS.Market_Sim(order_book, Cash)"
   ]
  },
  {
   "cell_type": "code",
   "execution_count": null,
   "metadata": {},
   "outputs": [],
   "source": [
    "Portfolio_Simulation = MS.Portfolio_Simulation_csv_outputs()"
   ]
  },
  {
   "cell_type": "markdown",
   "metadata": {},
   "source": [
    "## Visualising the Portfolio Simulation"
   ]
  },
  {
   "cell_type": "code",
   "execution_count": null,
   "metadata": {},
   "outputs": [],
   "source": [
    "Portfolio_Simulation = pd.read_csv('Portfolio_Simulation.csv')\n",
    "Portfolio_Simulation.head()"
   ]
  },
  {
   "cell_type": "code",
   "execution_count": null,
   "metadata": {},
   "outputs": [],
   "source": [
    "new_fig = make_subplots(rows=3, cols=1, shared_xaxes=True, vertical_spacing=0.02)"
   ]
  },
  {
   "cell_type": "code",
   "execution_count": null,
   "metadata": {
    "scrolled": true
   },
   "outputs": [],
   "source": [
    "new_fig.add_trace(go.Scatter(x=Portfolio_Simulation.time, y=Portfolio_Simulation.mid_c,\n",
    "                    mode='lines', name='Close Price', line=dict(color='dimgrey', width=2)), row=1, col=1)\n",
    "new_fig.add_trace(go.Scatter(x=Portfolio_Simulation.time, y =Portfolio_Simulation.Signals,\n",
    "                     mode='lines', name='Signals', line=dict(color='blue', width=2)), row=2, col=1)\n",
    "new_fig.add_trace(go.Scatter(x=Portfolio_Simulation.time, y =Portfolio_Simulation['Portfolio Value'],\n",
    "                     mode='lines', name='Portfolio Value', line=dict(color='red', width=2)), row=3, col=1)\n",
    "new_fig.update_layout(autosize=False, width=1100,height=600)"
   ]
  },
  {
   "cell_type": "code",
   "execution_count": null,
   "metadata": {},
   "outputs": [],
   "source": []
  }
 ],
 "metadata": {
  "kernelspec": {
   "display_name": "Python 3",
   "language": "python",
   "name": "python3"
  },
  "language_info": {
   "codemirror_mode": {
    "name": "ipython",
    "version": 3
   },
   "file_extension": ".py",
   "mimetype": "text/x-python",
   "name": "python",
   "nbconvert_exporter": "python",
   "pygments_lexer": "ipython3",
   "version": "3.8.8"
  }
 },
 "nbformat": 4,
 "nbformat_minor": 4
}
