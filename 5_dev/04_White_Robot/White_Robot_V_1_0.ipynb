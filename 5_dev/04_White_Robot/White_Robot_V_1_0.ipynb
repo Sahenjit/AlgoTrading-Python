{
 "cells": [
  {
   "cell_type": "code",
   "execution_count": 1,
   "metadata": {},
   "outputs": [],
   "source": [
    "import pandas as pd\n",
    "import requests\n",
    "import numpy as np\n",
    "import Oanda_Manager as om"
   ]
  },
  {
   "cell_type": "code",
   "execution_count": 2,
   "metadata": {},
   "outputs": [
    {
     "name": "stdout",
     "output_type": "stream",
     "text": [
      "(200, {'accounts': [{'id': '101-004-19105515-001', 'tags': []}]})\n"
     ]
    }
   ],
   "source": [
    "account = pd.read_csv('Account_details.csv')\n",
    "API_KEY=account.iloc[0, 0]\n",
    "Account_ID=account.iloc[0, 1]\n",
    "Oanda_URL=account.iloc[0, 2]\n",
    "oandaAcc =  om.Oanda_Manager(API_KEY,Account_ID, Oanda_URL,{'Authorization': f'Bearer {API_KEY}'})\n",
    "print(oandaAcc.account_list())\n"
   ]
  },
  {
   "cell_type": "code",
   "execution_count": 6,
   "metadata": {},
   "outputs": [],
   "source": [
    "asset_name=\"SPX500_USD\"\n",
    "count=1000\n",
    "granularity=\"H4\"\n",
    "candle_data = oandaAcc.read_instrument_candles(\"SPX500_USD\", 3, \"D\")"
   ]
  },
  {
   "cell_type": "code",
   "execution_count": 7,
   "metadata": {},
   "outputs": [
    {
     "data": {
      "text/html": [
       "<div>\n",
       "<style scoped>\n",
       "    .dataframe tbody tr th:only-of-type {\n",
       "        vertical-align: middle;\n",
       "    }\n",
       "\n",
       "    .dataframe tbody tr th {\n",
       "        vertical-align: top;\n",
       "    }\n",
       "\n",
       "    .dataframe thead th {\n",
       "        text-align: right;\n",
       "    }\n",
       "</style>\n",
       "<table border=\"1\" class=\"dataframe\">\n",
       "  <thead>\n",
       "    <tr style=\"text-align: right;\">\n",
       "      <th></th>\n",
       "      <th>time</th>\n",
       "      <th>volume</th>\n",
       "      <th>mid_o</th>\n",
       "      <th>mid_h</th>\n",
       "      <th>mid_l</th>\n",
       "      <th>mid_c</th>\n",
       "      <th>bid_o</th>\n",
       "      <th>bid_h</th>\n",
       "      <th>bid_l</th>\n",
       "      <th>bid_c</th>\n",
       "      <th>ask_o</th>\n",
       "      <th>ask_h</th>\n",
       "      <th>ask_l</th>\n",
       "      <th>ask_c</th>\n",
       "    </tr>\n",
       "  </thead>\n",
       "  <tbody>\n",
       "    <tr>\n",
       "      <th>0</th>\n",
       "      <td>2021-05-11T21:00:00.000000000Z</td>\n",
       "      <td>223432</td>\n",
       "      <td>4147.5</td>\n",
       "      <td>4157.3</td>\n",
       "      <td>4058.0</td>\n",
       "      <td>4058.7</td>\n",
       "      <td>4147.3</td>\n",
       "      <td>4157.1</td>\n",
       "      <td>4057.8</td>\n",
       "      <td>4058.5</td>\n",
       "      <td>4147.7</td>\n",
       "      <td>4157.5</td>\n",
       "      <td>4058.2</td>\n",
       "      <td>4058.9</td>\n",
       "    </tr>\n",
       "    <tr>\n",
       "      <th>1</th>\n",
       "      <td>2021-05-12T21:00:00.000000000Z</td>\n",
       "      <td>213659</td>\n",
       "      <td>4061.2</td>\n",
       "      <td>4132.8</td>\n",
       "      <td>4035.6</td>\n",
       "      <td>4117.0</td>\n",
       "      <td>4060.9</td>\n",
       "      <td>4132.7</td>\n",
       "      <td>4035.3</td>\n",
       "      <td>4116.8</td>\n",
       "      <td>4061.5</td>\n",
       "      <td>4133.0</td>\n",
       "      <td>4035.8</td>\n",
       "      <td>4117.2</td>\n",
       "    </tr>\n",
       "    <tr>\n",
       "      <th>2</th>\n",
       "      <td>2021-05-13T21:00:00.000000000Z</td>\n",
       "      <td>76524</td>\n",
       "      <td>4116.0</td>\n",
       "      <td>4184.0</td>\n",
       "      <td>4111.2</td>\n",
       "      <td>4179.0</td>\n",
       "      <td>4115.8</td>\n",
       "      <td>4183.7</td>\n",
       "      <td>4111.0</td>\n",
       "      <td>4178.8</td>\n",
       "      <td>4116.2</td>\n",
       "      <td>4184.2</td>\n",
       "      <td>4111.4</td>\n",
       "      <td>4179.2</td>\n",
       "    </tr>\n",
       "  </tbody>\n",
       "</table>\n",
       "</div>"
      ],
      "text/plain": [
       "                             time  volume   mid_o   mid_h   mid_l   mid_c  \\\n",
       "0  2021-05-11T21:00:00.000000000Z  223432  4147.5  4157.3  4058.0  4058.7   \n",
       "1  2021-05-12T21:00:00.000000000Z  213659  4061.2  4132.8  4035.6  4117.0   \n",
       "2  2021-05-13T21:00:00.000000000Z   76524  4116.0  4184.0  4111.2  4179.0   \n",
       "\n",
       "    bid_o   bid_h   bid_l   bid_c   ask_o   ask_h   ask_l   ask_c  \n",
       "0  4147.3  4157.1  4057.8  4058.5  4147.7  4157.5  4058.2  4058.9  \n",
       "1  4060.9  4132.7  4035.3  4116.8  4061.5  4133.0  4035.8  4117.2  \n",
       "2  4115.8  4183.7  4111.0  4178.8  4116.2  4184.2  4111.4  4179.2  "
      ]
     },
     "execution_count": 7,
     "metadata": {},
     "output_type": "execute_result"
    }
   ],
   "source": [
    "candle_data.head()\n"
   ]
  },
  {
   "cell_type": "code",
   "execution_count": null,
   "metadata": {},
   "outputs": [],
   "source": []
  }
 ],
 "metadata": {
  "kernelspec": {
   "display_name": "Python 3",
   "language": "python",
   "name": "python3"
  },
  "language_info": {
   "codemirror_mode": {
    "name": "ipython",
    "version": 3
   },
   "file_extension": ".py",
   "mimetype": "text/x-python",
   "name": "python",
   "nbconvert_exporter": "python",
   "pygments_lexer": "ipython3",
   "version": "3.7.7"
  }
 },
 "nbformat": 4,
 "nbformat_minor": 4
}
