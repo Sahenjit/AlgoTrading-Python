{
 "cells": [
  {
   "cell_type": "code",
   "execution_count": 19,
   "id": "d0adb07e",
   "metadata": {},
   "outputs": [],
   "source": [
    "import pandas as pd\n",
    "import tables as tb\n",
    "from Generate_Sample_Data import generate_sample_data"
   ]
  },
  {
   "cell_type": "code",
   "execution_count": 2,
   "id": "53ce0eb3",
   "metadata": {},
   "outputs": [],
   "source": [
    "#Storing Data Efficiently"
   ]
  },
  {
   "cell_type": "code",
   "execution_count": 3,
   "id": "c1a546be",
   "metadata": {},
   "outputs": [
    {
     "name": "stdout",
     "output_type": "stream",
     "text": [
      "                            No0         No1         No2         No3\n",
      "2021-01-01 00:00:00  100.000000  100.000000  100.000000  100.000000\n",
      "2021-01-01 00:01:00   99.887278   99.996453   99.996984   99.991206\n",
      "2021-01-01 00:02:00   99.903589   99.997554  100.043237   99.957744\n",
      "2021-01-01 00:03:00   99.903882  100.044483  100.006677   99.917451\n",
      "2021-01-01 00:04:00   99.888712  100.084262  100.055742   99.863322\n"
     ]
    }
   ],
   "source": [
    "print(generate_sample_data(rows =5, cols = 4))"
   ]
  },
  {
   "cell_type": "code",
   "execution_count": 4,
   "id": "150cb5de",
   "metadata": {},
   "outputs": [],
   "source": [
    "data = generate_sample_data(rows = 5e6, cols = 10).round(4)"
   ]
  },
  {
   "cell_type": "code",
   "execution_count": 6,
   "id": "d0dbaed0",
   "metadata": {},
   "outputs": [],
   "source": [
    "h5 = pd.HDFStore('data.h5', 'w')"
   ]
  },
  {
   "cell_type": "code",
   "execution_count": 7,
   "id": "97247cff",
   "metadata": {},
   "outputs": [],
   "source": [
    "h5['data'] = data"
   ]
  },
  {
   "cell_type": "code",
   "execution_count": 10,
   "id": "b00bd606",
   "metadata": {},
   "outputs": [
    {
     "data": {
      "text/plain": [
       "<class 'pandas.io.pytables.HDFStore'>\n",
       "File path: data.h5"
      ]
     },
     "execution_count": 10,
     "metadata": {},
     "output_type": "execute_result"
    }
   ],
   "source": [
    "h5"
   ]
  },
  {
   "cell_type": "code",
   "execution_count": 11,
   "id": "2510d5c9",
   "metadata": {},
   "outputs": [],
   "source": [
    "h5.close()"
   ]
  },
  {
   "cell_type": "code",
   "execution_count": 12,
   "id": "2d63f87c",
   "metadata": {},
   "outputs": [],
   "source": [
    "h5 = pd.HDFStore('data.h5')"
   ]
  },
  {
   "cell_type": "code",
   "execution_count": 13,
   "id": "e636f69f",
   "metadata": {},
   "outputs": [],
   "source": [
    "data_copy = h5['data']"
   ]
  },
  {
   "cell_type": "code",
   "execution_count": 14,
   "id": "519b3c3b",
   "metadata": {},
   "outputs": [
    {
     "name": "stdout",
     "output_type": "stream",
     "text": [
      "<class 'pandas.core.frame.DataFrame'>\n",
      "DatetimeIndex: 5000000 entries, 2021-01-01 00:00:00 to 2030-07-05 05:19:00\n",
      "Freq: T\n",
      "Data columns (total 10 columns):\n",
      " #   Column  Dtype  \n",
      "---  ------  -----  \n",
      " 0   No0     float64\n",
      " 1   No1     float64\n",
      " 2   No2     float64\n",
      " 3   No3     float64\n",
      " 4   No4     float64\n",
      " 5   No5     float64\n",
      " 6   No6     float64\n",
      " 7   No7     float64\n",
      " 8   No8     float64\n",
      " 9   No9     float64\n",
      "dtypes: float64(10)\n",
      "memory usage: 419.6 MB\n"
     ]
    }
   ],
   "source": [
    "data_copy.info()"
   ]
  },
  {
   "cell_type": "code",
   "execution_count": 15,
   "id": "36992d01",
   "metadata": {},
   "outputs": [],
   "source": [
    "h5.close()"
   ]
  },
  {
   "cell_type": "code",
   "execution_count": 16,
   "id": "fc6d2d81",
   "metadata": {},
   "outputs": [],
   "source": [
    "data.to_hdf('data.h5', 'data', format = 'table')"
   ]
  },
  {
   "cell_type": "code",
   "execution_count": 17,
   "id": "d601737a",
   "metadata": {},
   "outputs": [],
   "source": [
    "data_copy = pd.read_hdf('data.h5', 'data')"
   ]
  },
  {
   "cell_type": "code",
   "execution_count": 18,
   "id": "e0a5f09c",
   "metadata": {},
   "outputs": [
    {
     "name": "stdout",
     "output_type": "stream",
     "text": [
      "<class 'pandas.core.frame.DataFrame'>\n",
      "DatetimeIndex: 5000000 entries, 2021-01-01 00:00:00 to 2030-07-05 05:19:00\n",
      "Freq: T\n",
      "Data columns (total 10 columns):\n",
      " #   Column  Dtype  \n",
      "---  ------  -----  \n",
      " 0   No0     float64\n",
      " 1   No1     float64\n",
      " 2   No2     float64\n",
      " 3   No3     float64\n",
      " 4   No4     float64\n",
      " 5   No5     float64\n",
      " 6   No6     float64\n",
      " 7   No7     float64\n",
      " 8   No8     float64\n",
      " 9   No9     float64\n",
      "dtypes: float64(10)\n",
      "memory usage: 419.6 MB\n"
     ]
    }
   ],
   "source": [
    "data_copy.info()"
   ]
  },
  {
   "cell_type": "code",
   "execution_count": 20,
   "id": "01e2de01",
   "metadata": {},
   "outputs": [],
   "source": [
    "h5 = tb.open_file('data.h5', 'r')"
   ]
  },
  {
   "cell_type": "code",
   "execution_count": 21,
   "id": "72e7ba12",
   "metadata": {},
   "outputs": [
    {
     "data": {
      "text/plain": [
       "File(filename=data.h5, title='', mode='r', root_uep='/', filters=Filters(complevel=0, shuffle=False, bitshuffle=False, fletcher32=False, least_significant_digit=None))\n",
       "/ (RootGroup) ''\n",
       "/data (Group) ''\n",
       "/data/table (Table(5000000,)) ''\n",
       "  description := {\n",
       "  \"index\": Int64Col(shape=(), dflt=0, pos=0),\n",
       "  \"values_block_0\": Float64Col(shape=(10,), dflt=0.0, pos=1)}\n",
       "  byteorder := 'little'\n",
       "  chunkshape := (2978,)\n",
       "  autoindex := True\n",
       "  colindexes := {\n",
       "    \"index\": Index(6, medium, shuffle, zlib(1)).is_csi=False}"
      ]
     },
     "execution_count": 21,
     "metadata": {},
     "output_type": "execute_result"
    }
   ],
   "source": [
    "h5"
   ]
  },
  {
   "cell_type": "code",
   "execution_count": 22,
   "id": "b476cadf",
   "metadata": {},
   "outputs": [
    {
     "data": {
      "text/plain": [
       "array([(1609459200000000000, [100.    , 100.    , 100.    , 100.    , 100.    , 100.    , 100.    , 100.    , 100.    , 100.    ]),\n",
       "       (1609459260000000000, [100.0885, 100.0165,  99.9678,  99.8153, 100.1   , 100.0081, 100.1231, 100.0078, 100.0075, 100.067 ]),\n",
       "       (1609459320000000000, [100.1257, 100.0133,  99.9749,  99.7417, 100.1399,  99.9468, 100.145 ,  99.9734,  99.9655, 100.1201])],\n",
       "      dtype=[('index', '<i8'), ('values_block_0', '<f8', (10,))])"
      ]
     },
     "execution_count": 22,
     "metadata": {},
     "output_type": "execute_result"
    }
   ],
   "source": [
    "h5.root.data.table[:3]"
   ]
  },
  {
   "cell_type": "code",
   "execution_count": 23,
   "id": "12b8ee3b",
   "metadata": {},
   "outputs": [],
   "source": [
    "h5.close()"
   ]
  },
  {
   "cell_type": "code",
   "execution_count": null,
   "id": "e9c309fa",
   "metadata": {},
   "outputs": [],
   "source": []
  }
 ],
 "metadata": {
  "kernelspec": {
   "display_name": "Python 3",
   "language": "python",
   "name": "python3"
  },
  "language_info": {
   "codemirror_mode": {
    "name": "ipython",
    "version": 3
   },
   "file_extension": ".py",
   "mimetype": "text/x-python",
   "name": "python",
   "nbconvert_exporter": "python",
   "pygments_lexer": "ipython3",
   "version": "3.8.8"
  }
 },
 "nbformat": 4,
 "nbformat_minor": 5
}
