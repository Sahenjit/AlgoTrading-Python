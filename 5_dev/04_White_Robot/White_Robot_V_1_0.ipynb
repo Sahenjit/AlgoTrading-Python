{
 "cells": [
  {
   "cell_type": "code",
   "execution_count": null,
   "metadata": {},
   "outputs": [],
   "source": [
    "###################################################################################################\n",
    "# Project: \n",
    "#          \n",
    "# Lenguaje: Python / jupyter\n",
    "# Description:\n",
    "#\n",
    "# References: \n",
    "# Git Control:\n",
    "# Author : Sahenjit Paul - Camilo Blanco Vargas - Year: 2021 \n",
    "# Mail shanks.p.95@gmail.com -:mail@camiloblanco.com \n",
    "###################################################################################################"
   ]
  },
  {
   "cell_type": "code",
   "execution_count": null,
   "metadata": {},
   "outputs": [],
   "source": [
    "# Import the necesary libraries\n",
    "import pandas as pd\n",
    "import requests\n",
    "import numpy as np\n",
    "import matplotlib.pyplot as plt\n",
    "import plotly.graph_objects as go\n",
    "from datetime import timedelta\n",
    "import Oanda_Manager as om"
   ]
  },
  {
   "cell_type": "code",
   "execution_count": null,
   "metadata": {},
   "outputs": [],
   "source": [
    "# Create an Oanda_Manager object to connect to Oanda API\n",
    "Account_details_file = 'Account_details.csv'\n",
    "oandaAcc =  om.Oanda_Manager(Account_details_file)\n",
    "print(oandaAcc.account_list())"
   ]
  },
  {
   "cell_type": "code",
   "execution_count": null,
   "metadata": {},
   "outputs": [],
   "source": [
    "# Retrieve the index data as a time-series dataframe usign a date range\n",
    "#https://developer.oanda.com/rest-live-v20/instrument-df/#CandlestickGranularity\n",
    "asset_name=\"SPX500_USD\"\n",
    "#granularity=\"H4\"\n",
    "granularity=\"M\"\n",
    "from_date = pd.to_datetime('1/1/2003')\n",
    "to_date  = pd.to_datetime('12/31/2020')\n",
    "candle_data = oandaAcc.get_candles_dates(asset_name, granularity,from_date,to_date)\n",
    "candle_data.head()"
   ]
  },
  {
   "cell_type": "code",
   "execution_count": null,
   "metadata": {},
   "outputs": [],
   "source": [
    "# Print the info of the resulting timeIndex dataframe\n",
    "candle_data.info()"
   ]
  },
  {
   "cell_type": "code",
   "execution_count": null,
   "metadata": {},
   "outputs": [],
   "source": [
    "# Describe the date\n",
    "index_stats = candle_data.describe()\n",
    "index_stats = index_stats.transpose()\n",
    "index_stats"
   ]
  },
  {
   "cell_type": "code",
   "execution_count": null,
   "metadata": {},
   "outputs": [],
   "source": [
    "# Plot the medium closing price\n",
    "plt.figure(figsize=(16,4))\n",
    "candle_data['mid_c'].plot()"
   ]
  },
  {
   "cell_type": "code",
   "execution_count": null,
   "metadata": {},
   "outputs": [],
   "source": [
    "sp500_data = go.Scatter(x=candle_data.index, y=candle_data['mid_c'])\n",
    "layout = go.Layout(title='Price Plot', xaxis=dict(title='Date'), yaxis=dict(title='price'))\n",
    "fig = go.Figure(data=[sp500_data], layout=layout)\n",
    "fig.show()"
   ]
  },
  {
   "cell_type": "code",
   "execution_count": null,
   "metadata": {},
   "outputs": [],
   "source": [
    "from_date = pd.to_datetime('1-1-2003')\n",
    "to_date  = pd.to_datetime('5-16-2021')\n",
    "to_date - from_date"
   ]
  },
  {
   "cell_type": "code",
   "execution_count": null,
   "metadata": {},
   "outputs": [],
   "source": [
    "from_date+ timedelta(days=200)"
   ]
  },
  {
   "cell_type": "code",
   "execution_count": null,
   "metadata": {},
   "outputs": [],
   "source": [
    "granularity=\"H4\"\n",
    "from_date = pd.to_datetime('1/1/2003')\n",
    "to_date  = pd.to_datetime('12/31/2003')\n",
    "candle_data_2003 = oandaAcc.get_candles_dates(asset_name, granularity,from_date,to_date)\n",
    "from_date = pd.to_datetime('1/1/2004')\n",
    "to_date  = pd.to_datetime('12/31/2004')\n",
    "candle_data_2004 = oandaAcc.get_candles_dates(asset_name, granularity,from_date,to_date)\n",
    "from_date = pd.to_datetime('1/1/2005')\n",
    "to_date  = pd.to_datetime('12/31/2005')\n",
    "candle_data_2005 = oandaAcc.get_candles_dates(asset_name, granularity,from_date,to_date)\n",
    "from_date = pd.to_datetime('1/1/2006')\n",
    "to_date  = pd.to_datetime('12/31/2006')\n",
    "candle_data_2006 = oandaAcc.get_candles_dates(asset_name, granularity,from_date,to_date)\n",
    "from_date = pd.to_datetime('1/1/2007')\n",
    "to_date  = pd.to_datetime('12/31/2007')\n",
    "candle_data_2007 = oandaAcc.get_candles_dates(asset_name, granularity,from_date,to_date)\n",
    "candle_data_2003_2007 = pd.concat([candle_data_2003,candle_data_2004,candle_data_2005,candle_data_2006,candle_data_2007])\n"
   ]
  },
  {
   "cell_type": "code",
   "execution_count": null,
   "metadata": {},
   "outputs": [],
   "source": [
    "candle_data_2003_2007.info()"
   ]
  },
  {
   "cell_type": "code",
   "execution_count": null,
   "metadata": {},
   "outputs": [],
   "source": [
    "sp500_data = go.Scatter(x=candle_data_2003_2007.index, y=candle_data_2003_2007['mid_c'])\n",
    "layout = go.Layout(title='Price Plot', xaxis=dict(title='Date'), yaxis=dict(title='price'))\n",
    "fig = go.Figure(data=[sp500_data], layout=layout)\n",
    "fig.show()"
   ]
  }
 ],
 "metadata": {
  "kernelspec": {
   "display_name": "Python 3",
   "language": "python",
   "name": "python3"
  },
  "language_info": {
   "codemirror_mode": {
    "name": "ipython",
    "version": 3
   },
   "file_extension": ".py",
   "mimetype": "text/x-python",
   "name": "python",
   "nbconvert_exporter": "python",
   "pygments_lexer": "ipython3",
   "version": "3.8.5"
  }
 },
 "nbformat": 4,
 "nbformat_minor": 4
}
