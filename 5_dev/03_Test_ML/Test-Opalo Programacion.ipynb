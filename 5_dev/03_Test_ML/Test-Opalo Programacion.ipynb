{
 "cells": [
  {
   "cell_type": "markdown",
   "metadata": {},
   "source": [
    "# Prueba: Ópalo Quant Capital\n",
    "\n",
    "## 2 Programacion"
   ]
  },
  {
   "cell_type": "code",
   "execution_count": 1,
   "metadata": {},
   "outputs": [],
   "source": [
    "###################################################################################################\n",
    "# Project    : Prueba Opalo Quant Capital\n",
    "# Lenguaje   : Python / jupyter\n",
    "# Description: Seccion de programacion\n",
    "#\n",
    "# References : \n",
    "# Git Control:\n",
    "# Author - Year:Camilo Blanco Vargas - 2020\n",
    "# Mail         :mail@camiloblanco.com \n",
    "###################################################################################################"
   ]
  },
  {
   "cell_type": "code",
   "execution_count": 2,
   "metadata": {},
   "outputs": [],
   "source": [
    "# Import the necesary libraries\n",
    "import math\n",
    "import numpy\n",
    "import numpy as np\n",
    "import pandas as pd\n",
    "import matplotlib.pyplot as plt\n",
    "import seaborn as sns"
   ]
  },
  {
   "cell_type": "code",
   "execution_count": 3,
   "metadata": {},
   "outputs": [],
   "source": [
    "#1) construya  dicicionarios {nombre: estatrura}, {nombre: peso}, {nombre: señal_1},, {nombre: señal_2}\n",
    "\n",
    "nombres =  [ \"nicolas\",\"samuel\",\"mario\",\"andrres\",\"camilo\"]\n",
    "\n",
    "estatura = [ 1.70, 1.72,  1.75,  1.90,  1.68 ]\n",
    "peso     = [ 67, 69,  72,  87,  65 ]\n",
    "\n",
    "señal_1 = [ False,True,True,True,False]\n",
    "señal_2 = [ True,True,False,True,True]"
   ]
  },
  {
   "cell_type": "code",
   "execution_count": 4,
   "metadata": {},
   "outputs": [
    {
     "name": "stdout",
     "output_type": "stream",
     "text": [
      "{'nicolas': 1.7, 'samuel': 1.72, 'mario': 1.75, 'andrres': 1.9, 'camilo': 1.68}\n",
      "{'nicolas': 67, 'samuel': 69, 'mario': 72, 'andrres': 87, 'camilo': 65}\n",
      "{'nicolas': False, 'samuel': True, 'mario': True, 'andrres': True, 'camilo': False}\n",
      "{'nicolas': True, 'samuel': True, 'mario': False, 'andrres': True, 'camilo': True}\n"
     ]
    }
   ],
   "source": [
    "#Usign zip function\n",
    "dictionary1 = dict(zip(nombres, estatura))\n",
    "dictionary2 = dict(zip(nombres, peso))\n",
    "dictionary3 = dict(zip(nombres, señal_1))\n",
    "dictionary4 = dict(zip(nombres, señal_2))\n",
    "print(dictionary1)\n",
    "print(dictionary2)\n",
    "print(dictionary3)\n",
    "print(dictionary4)"
   ]
  },
  {
   "cell_type": "code",
   "execution_count": 5,
   "metadata": {},
   "outputs": [
    {
     "name": "stdout",
     "output_type": "stream",
     "text": [
      "{'nicolas': 23.18339100346021, 'samuel': 23.323418063818284, 'mario': 23.510204081632654, 'andrres': 24.099722991689752, 'camilo': 23.030045351473927}\n"
     ]
    }
   ],
   "source": [
    "#2) construya una funcion en la que se retorne un dicionario con {nombre: IMC} donde\n",
    "# (IMC) indice de masa corporal = peso dividido la estatura al cuadrado\n",
    "\n",
    "#function\n",
    "def imc_dico(nombres,estatura,peso):  #Parameters are passed using Call-by-Object\n",
    "    estaturaArr = numpy.array(estatura)\n",
    "    pesoArr = numpy.array(peso)\n",
    "    estaturaArrPow=np.square(estaturaArr)\n",
    "    IMC=pesoArr/estaturaArrPow\n",
    "    dico = dict(zip(nombres, IMC))\n",
    "    return dico\n",
    "#execution\n",
    "dicoImc=imc_dico(nombres,estatura,peso)\n",
    "print(dicoImc)"
   ]
  },
  {
   "cell_type": "code",
   "execution_count": 6,
   "metadata": {},
   "outputs": [
    {
     "data": {
      "text/html": [
       "<div>\n",
       "<style scoped>\n",
       "    .dataframe tbody tr th:only-of-type {\n",
       "        vertical-align: middle;\n",
       "    }\n",
       "\n",
       "    .dataframe tbody tr th {\n",
       "        vertical-align: top;\n",
       "    }\n",
       "\n",
       "    .dataframe thead th {\n",
       "        text-align: right;\n",
       "    }\n",
       "</style>\n",
       "<table border=\"1\" class=\"dataframe\">\n",
       "  <thead>\n",
       "    <tr style=\"text-align: right;\">\n",
       "      <th></th>\n",
       "      <th>nombre</th>\n",
       "      <th>estatura</th>\n",
       "      <th>peso</th>\n",
       "      <th>imc</th>\n",
       "      <th>señal_1</th>\n",
       "      <th>señal_2</th>\n",
       "    </tr>\n",
       "  </thead>\n",
       "  <tbody>\n",
       "    <tr>\n",
       "      <th>0</th>\n",
       "      <td>nicolas</td>\n",
       "      <td>1.70</td>\n",
       "      <td>67</td>\n",
       "      <td>23.183391</td>\n",
       "      <td>False</td>\n",
       "      <td>True</td>\n",
       "    </tr>\n",
       "    <tr>\n",
       "      <th>1</th>\n",
       "      <td>samuel</td>\n",
       "      <td>1.72</td>\n",
       "      <td>69</td>\n",
       "      <td>23.323418</td>\n",
       "      <td>True</td>\n",
       "      <td>True</td>\n",
       "    </tr>\n",
       "    <tr>\n",
       "      <th>2</th>\n",
       "      <td>mario</td>\n",
       "      <td>1.75</td>\n",
       "      <td>72</td>\n",
       "      <td>23.510204</td>\n",
       "      <td>True</td>\n",
       "      <td>False</td>\n",
       "    </tr>\n",
       "    <tr>\n",
       "      <th>3</th>\n",
       "      <td>andrres</td>\n",
       "      <td>1.90</td>\n",
       "      <td>87</td>\n",
       "      <td>24.099723</td>\n",
       "      <td>True</td>\n",
       "      <td>True</td>\n",
       "    </tr>\n",
       "    <tr>\n",
       "      <th>4</th>\n",
       "      <td>camilo</td>\n",
       "      <td>1.68</td>\n",
       "      <td>65</td>\n",
       "      <td>23.030045</td>\n",
       "      <td>False</td>\n",
       "      <td>True</td>\n",
       "    </tr>\n",
       "  </tbody>\n",
       "</table>\n",
       "</div>"
      ],
      "text/plain": [
       "    nombre  estatura  peso        imc  señal_1  señal_2\n",
       "0  nicolas      1.70    67  23.183391    False     True\n",
       "1   samuel      1.72    69  23.323418     True     True\n",
       "2    mario      1.75    72  23.510204     True    False\n",
       "3  andrres      1.90    87  24.099723     True     True\n",
       "4   camilo      1.68    65  23.030045    False     True"
      ]
     },
     "execution_count": 6,
     "metadata": {},
     "output_type": "execute_result"
    }
   ],
   "source": [
    "# 3) con los resultados construya un df con las columnas \"nombre\"\t\"estatura\"\t\"peso\"\t\"imc\"\tseñal_1\tseñal_2 \n",
    "\n",
    "#Dic to list\n",
    "imc=list(dicoImc.values())\n",
    "#Make the df\n",
    "df = pd.DataFrame(\n",
    "    {'nombre': nombres,\n",
    "     'estatura': estatura,\n",
    "     'peso': peso,\n",
    "     'imc': imc,\n",
    "     'señal_1':señal_1,\n",
    "     'señal_2': señal_2,\n",
    "    })\n",
    "df.head()"
   ]
  },
  {
   "cell_type": "code",
   "execution_count": 7,
   "metadata": {},
   "outputs": [
    {
     "name": "stdout",
     "output_type": "stream",
     "text": [
      "0     0.000000\n",
      "1     0.000000\n",
      "2    31.101077\n",
      "3     0.000000\n",
      "4     0.000000\n",
      "dtype: float64\n"
     ]
    }
   ],
   "source": [
    "## 4) construya una funcion que recorra el dataframe \n",
    "#     y retorne el resultado  multiplicar  el \"imc\" por raiz cuadrada de la \"estatura\" donde la la señal_1 ==  True y la señal_2 sea == False\n",
    "\n",
    "#Filter function with bitwise operators for Pandas\n",
    "def filtro(estatura,imc,s1,s2):\n",
    "    return imc*(estatura**(1/2))*s1*(~s2)\n",
    "#Execuation\n",
    "resultado=filtro(df[\"estatura\"],df[\"imc\"],df[\"señal_1\"],df[\"señal_2\"])\n",
    "print(resultado)"
   ]
  },
  {
   "cell_type": "code",
   "execution_count": 8,
   "metadata": {},
   "outputs": [
    {
     "data": {
      "text/html": [
       "<div>\n",
       "<style scoped>\n",
       "    .dataframe tbody tr th:only-of-type {\n",
       "        vertical-align: middle;\n",
       "    }\n",
       "\n",
       "    .dataframe tbody tr th {\n",
       "        vertical-align: top;\n",
       "    }\n",
       "\n",
       "    .dataframe thead th {\n",
       "        text-align: right;\n",
       "    }\n",
       "</style>\n",
       "<table border=\"1\" class=\"dataframe\">\n",
       "  <thead>\n",
       "    <tr style=\"text-align: right;\">\n",
       "      <th></th>\n",
       "      <th>nombre</th>\n",
       "      <th>estatura</th>\n",
       "      <th>peso</th>\n",
       "      <th>imc</th>\n",
       "      <th>señal_1</th>\n",
       "      <th>señal_2</th>\n",
       "      <th>resultado</th>\n",
       "    </tr>\n",
       "  </thead>\n",
       "  <tbody>\n",
       "    <tr>\n",
       "      <th>0</th>\n",
       "      <td>nicolas</td>\n",
       "      <td>1.70</td>\n",
       "      <td>67</td>\n",
       "      <td>23.183391</td>\n",
       "      <td>False</td>\n",
       "      <td>True</td>\n",
       "      <td>0.000000</td>\n",
       "    </tr>\n",
       "    <tr>\n",
       "      <th>1</th>\n",
       "      <td>samuel</td>\n",
       "      <td>1.72</td>\n",
       "      <td>69</td>\n",
       "      <td>23.323418</td>\n",
       "      <td>True</td>\n",
       "      <td>True</td>\n",
       "      <td>0.000000</td>\n",
       "    </tr>\n",
       "    <tr>\n",
       "      <th>2</th>\n",
       "      <td>mario</td>\n",
       "      <td>1.75</td>\n",
       "      <td>72</td>\n",
       "      <td>23.510204</td>\n",
       "      <td>True</td>\n",
       "      <td>False</td>\n",
       "      <td>31.101077</td>\n",
       "    </tr>\n",
       "    <tr>\n",
       "      <th>3</th>\n",
       "      <td>andrres</td>\n",
       "      <td>1.90</td>\n",
       "      <td>87</td>\n",
       "      <td>24.099723</td>\n",
       "      <td>True</td>\n",
       "      <td>True</td>\n",
       "      <td>0.000000</td>\n",
       "    </tr>\n",
       "    <tr>\n",
       "      <th>4</th>\n",
       "      <td>camilo</td>\n",
       "      <td>1.68</td>\n",
       "      <td>65</td>\n",
       "      <td>23.030045</td>\n",
       "      <td>False</td>\n",
       "      <td>True</td>\n",
       "      <td>0.000000</td>\n",
       "    </tr>\n",
       "  </tbody>\n",
       "</table>\n",
       "</div>"
      ],
      "text/plain": [
       "    nombre  estatura  peso        imc  señal_1  señal_2  resultado\n",
       "0  nicolas      1.70    67  23.183391    False     True   0.000000\n",
       "1   samuel      1.72    69  23.323418     True     True   0.000000\n",
       "2    mario      1.75    72  23.510204     True    False  31.101077\n",
       "3  andrres      1.90    87  24.099723     True     True   0.000000\n",
       "4   camilo      1.68    65  23.030045    False     True   0.000000"
      ]
     },
     "execution_count": 8,
     "metadata": {},
     "output_type": "execute_result"
    }
   ],
   "source": [
    "## 5) inserte los resultado del recorrido de la  funcion en una columna nueva del dataframe con el nombre de \"resultado\"\n",
    "#Add df colum with the pandas series\n",
    "df[\"resultado\"]=resultado\n",
    "df.head()"
   ]
  },
  {
   "cell_type": "code",
   "execution_count": 9,
   "metadata": {},
   "outputs": [
    {
     "data": {
      "text/html": [
       "<div>\n",
       "<style scoped>\n",
       "    .dataframe tbody tr th:only-of-type {\n",
       "        vertical-align: middle;\n",
       "    }\n",
       "\n",
       "    .dataframe tbody tr th {\n",
       "        vertical-align: top;\n",
       "    }\n",
       "\n",
       "    .dataframe thead th {\n",
       "        text-align: right;\n",
       "    }\n",
       "</style>\n",
       "<table border=\"1\" class=\"dataframe\">\n",
       "  <thead>\n",
       "    <tr style=\"text-align: right;\">\n",
       "      <th></th>\n",
       "      <th>nombre</th>\n",
       "      <th>estatura</th>\n",
       "      <th>peso</th>\n",
       "      <th>imc</th>\n",
       "      <th>señal_1</th>\n",
       "      <th>señal_2</th>\n",
       "      <th>resultado</th>\n",
       "    </tr>\n",
       "  </thead>\n",
       "  <tbody>\n",
       "    <tr>\n",
       "      <th>0</th>\n",
       "      <td>nicolas</td>\n",
       "      <td>1.70</td>\n",
       "      <td>67</td>\n",
       "      <td>23.183391</td>\n",
       "      <td>False</td>\n",
       "      <td>True</td>\n",
       "      <td>0.0</td>\n",
       "    </tr>\n",
       "    <tr>\n",
       "      <th>4</th>\n",
       "      <td>camilo</td>\n",
       "      <td>1.68</td>\n",
       "      <td>65</td>\n",
       "      <td>23.030045</td>\n",
       "      <td>False</td>\n",
       "      <td>True</td>\n",
       "      <td>0.0</td>\n",
       "    </tr>\n",
       "  </tbody>\n",
       "</table>\n",
       "</div>"
      ],
      "text/plain": [
       "    nombre  estatura  peso        imc  señal_1  señal_2  resultado\n",
       "0  nicolas      1.70    67  23.183391    False     True        0.0\n",
       "4   camilo      1.68    65  23.030045    False     True        0.0"
      ]
     },
     "execution_count": 9,
     "metadata": {},
     "output_type": "execute_result"
    }
   ],
   "source": [
    "## 6) separe en un nuevo dataframe los datos de \"camilo y de nicolas\"\n",
    "#use df query to filter with bitwise operators for Pandas\n",
    "newdf = df.query('nombre == \"camilo\" | nombre == \"nicolas\"')\n",
    "newdf.head()"
   ]
  }
 ],
 "metadata": {
  "kernelspec": {
   "display_name": "Python 3",
   "language": "python",
   "name": "python3"
  },
  "language_info": {
   "codemirror_mode": {
    "name": "ipython",
    "version": 3
   },
   "file_extension": ".py",
   "mimetype": "text/x-python",
   "name": "python",
   "nbconvert_exporter": "python",
   "pygments_lexer": "ipython3",
   "version": "3.7.7"
  }
 },
 "nbformat": 4,
 "nbformat_minor": 4
}
