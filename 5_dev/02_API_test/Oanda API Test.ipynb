{
 "cells": [
  {
   "cell_type": "markdown",
   "metadata": {},
   "source": [
    "Test OANDA's API"
   ]
  },
  {
   "cell_type": "code",
   "execution_count": 1,
   "metadata": {},
   "outputs": [],
   "source": [
    "API = \"api-fxtrade.oanda.com\"\n",
    "STREAM_API = \"stream-fxtrade.oanda.com\""
   ]
  },
  {
   "cell_type": "code",
   "execution_count": 2,
   "metadata": {},
   "outputs": [],
   "source": [
    "ACCOUNT_ID = \"001-004-6287233-001\"\n",
    "ACCESS_TOKEN = \"81cdedaecc7a84ce73b9c4636b16c29f-278400ce5b4bfab4d6eacc1c3071b72b\""
   ]
  },
  {
   "cell_type": "code",
   "execution_count": 3,
   "metadata": {},
   "outputs": [],
   "source": [
    "import requests\n",
    "import json\n",
    "import numpy as np\n",
    "import pandas as pd"
   ]
  },
  {
   "cell_type": "code",
   "execution_count": 4,
   "metadata": {},
   "outputs": [],
   "source": [
    "PRICING_PATH = f\"/v3/accounts/{ACCOUNT_ID}/pricing\""
   ]
  },
  {
   "cell_type": "code",
   "execution_count": 5,
   "metadata": {},
   "outputs": [],
   "source": [
    "query = {\"instruments\": \"USD_CAD\"} \n",
    "headers = {\"Authorization\": \"Bearer \"+ ACCESS_TOKEN}"
   ]
  },
  {
   "cell_type": "code",
   "execution_count": 6,
   "metadata": {},
   "outputs": [],
   "source": [
    "response = requests.get(\"https://\"+API+PRICING_PATH, headers=headers, params=query)"
   ]
  },
  {
   "cell_type": "code",
   "execution_count": 7,
   "metadata": {},
   "outputs": [
    {
     "data": {
      "text/plain": [
       "{'time': '2021-05-01T10:33:18.425202395Z',\n",
       " 'prices': [{'type': 'PRICE',\n",
       "   'time': '2021-05-01T01:58:05.281470557Z',\n",
       "   'bids': [{'price': '1.22868', 'liquidity': 10000000}],\n",
       "   'asks': [{'price': '1.22968', 'liquidity': 10000000}],\n",
       "   'closeoutBid': '1.22868',\n",
       "   'closeoutAsk': '1.22968',\n",
       "   'status': 'non-tradeable',\n",
       "   'tradeable': False,\n",
       "   'unitsAvailable': {'default': {'long': '0', 'short': '0'},\n",
       "    'openOnly': {'long': '0', 'short': '0'},\n",
       "    'reduceFirst': {'long': '0', 'short': '0'},\n",
       "    'reduceOnly': {'long': '0', 'short': '0'}},\n",
       "   'quoteHomeConversionFactors': {'positiveUnits': '0.58846376',\n",
       "    'negativeUnits': '0.58898365'},\n",
       "   'instrument': 'USD_CAD'}]}"
      ]
     },
     "execution_count": 7,
     "metadata": {},
     "output_type": "execute_result"
    }
   ],
   "source": [
    "response.json()"
   ]
  },
  {
   "cell_type": "code",
   "execution_count": 8,
   "metadata": {},
   "outputs": [
    {
     "name": "stdout",
     "output_type": "stream",
     "text": [
      "Hello World\n"
     ]
    }
   ],
   "source": [
    "print(\"Hello World\")"
   ]
  }
 ],
 "metadata": {
  "kernelspec": {
   "display_name": "Python 3",
   "language": "python",
   "name": "python3"
  },
  "language_info": {
   "codemirror_mode": {
    "name": "ipython",
    "version": 3
   },
   "file_extension": ".py",
   "mimetype": "text/x-python",
   "name": "python",
   "nbconvert_exporter": "python",
   "pygments_lexer": "ipython3",
   "version": "3.8.5"
  }
 },
 "nbformat": 4,
 "nbformat_minor": 4
}
