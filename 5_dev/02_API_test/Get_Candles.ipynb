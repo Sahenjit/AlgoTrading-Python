{
 "cells": [
  {
   "cell_type": "code",
   "execution_count": 2,
   "metadata": {},
   "outputs": [],
   "source": [
    "import requests\n",
    "import defs\n",
    "import pandas as pd"
   ]
  },
  {
   "cell_type": "code",
   "execution_count": 3,
   "metadata": {},
   "outputs": [],
   "source": [
    "session = requests.Session()"
   ]
  },
  {
   "cell_type": "code",
   "execution_count": 4,
   "metadata": {},
   "outputs": [
    {
     "data": {
      "text/plain": [
       "'101-004-19105515-001'"
      ]
     },
     "execution_count": 4,
     "metadata": {},
     "output_type": "execute_result"
    }
   ],
   "source": [
    "defs.ACCOUNT_ID"
   ]
  },
  {
   "cell_type": "code",
   "execution_count": 5,
   "metadata": {},
   "outputs": [],
   "source": [
    "count = 10 \n",
    "granularity = \"H1\""
   ]
  },
  {
   "cell_type": "code",
   "execution_count": 6,
   "metadata": {},
   "outputs": [],
   "source": [
    "instrument = \"EUR_USD\""
   ]
  },
  {
   "cell_type": "code",
   "execution_count": 7,
   "metadata": {},
   "outputs": [
    {
     "data": {
      "text/plain": [
       "'https://api-fxpractice.oanda.com/v3/instruments/EUR_USD/candles'"
      ]
     },
     "execution_count": 7,
     "metadata": {},
     "output_type": "execute_result"
    }
   ],
   "source": [
    "url = f\"{defs.OANDA_URL}/instruments/{instrument}/candles\"\n",
    "url"
   ]
  },
  {
   "cell_type": "code",
   "execution_count": 8,
   "metadata": {},
   "outputs": [],
   "source": [
    "params = dict(\n",
    "    count = count,\n",
    "    granularity = granularity,\n",
    "    price = \"MBA\"\n",
    ")"
   ]
  },
  {
   "cell_type": "code",
   "execution_count": 9,
   "metadata": {},
   "outputs": [
    {
     "data": {
      "text/plain": [
       "{'count': 10, 'granularity': 'H1', 'price': 'MBA'}"
      ]
     },
     "execution_count": 9,
     "metadata": {},
     "output_type": "execute_result"
    }
   ],
   "source": [
    "params"
   ]
  },
  {
   "cell_type": "code",
   "execution_count": 10,
   "metadata": {},
   "outputs": [],
   "source": [
    "response=session.get(url, params = params, headers = defs.SECURE_HEADER)"
   ]
  },
  {
   "cell_type": "code",
   "execution_count": 11,
   "metadata": {},
   "outputs": [
    {
     "data": {
      "text/plain": [
       "200"
      ]
     },
     "execution_count": 11,
     "metadata": {},
     "output_type": "execute_result"
    }
   ],
   "source": [
    "response.status_code"
   ]
  },
  {
   "cell_type": "code",
   "execution_count": 12,
   "metadata": {},
   "outputs": [],
   "source": [
    "data = response.json()"
   ]
  },
  {
   "cell_type": "code",
   "execution_count": 13,
   "metadata": {},
   "outputs": [
    {
     "data": {
      "text/plain": [
       "dict_keys(['instrument', 'granularity', 'candles'])"
      ]
     },
     "execution_count": 13,
     "metadata": {},
     "output_type": "execute_result"
    }
   ],
   "source": [
    "data.keys()"
   ]
  },
  {
   "cell_type": "code",
   "execution_count": 14,
   "metadata": {},
   "outputs": [
    {
     "name": "stdout",
     "output_type": "stream",
     "text": [
      "{'complete': True, 'volume': 4306, 'time': '2021-05-12T11:00:00.000000000Z', 'bid': {'o': '1.21253', 'h': '1.21278', 'l': '1.21165', 'c': '1.21177'}, 'mid': {'o': '1.21260', 'h': '1.21284', 'l': '1.21172', 'c': '1.21184'}, 'ask': {'o': '1.21266', 'h': '1.21291', 'l': '1.21179', 'c': '1.21190'}}\n",
      "{'complete': True, 'volume': 21218, 'time': '2021-05-12T12:00:00.000000000Z', 'bid': {'o': '1.21179', 'h': '1.21461', 'l': '1.20712', 'c': '1.21293'}, 'mid': {'o': '1.21185', 'h': '1.21468', 'l': '1.20720', 'c': '1.21300'}, 'ask': {'o': '1.21191', 'h': '1.21474', 'l': '1.20727', 'c': '1.21307'}}\n",
      "{'complete': True, 'volume': 20494, 'time': '2021-05-12T13:00:00.000000000Z', 'bid': {'o': '1.21296', 'h': '1.21516', 'l': '1.20908', 'c': '1.21005'}, 'mid': {'o': '1.21302', 'h': '1.21524', 'l': '1.20914', 'c': '1.21012'}, 'ask': {'o': '1.21308', 'h': '1.21531', 'l': '1.20921', 'c': '1.21018'}}\n",
      "{'complete': True, 'volume': 14431, 'time': '2021-05-12T14:00:00.000000000Z', 'bid': {'o': '1.21007', 'h': '1.21017', 'l': '1.20654', 'c': '1.20751'}, 'mid': {'o': '1.21014', 'h': '1.21024', 'l': '1.20660', 'c': '1.20758'}, 'ask': {'o': '1.21020', 'h': '1.21030', 'l': '1.20666', 'c': '1.20765'}}\n",
      "{'complete': True, 'volume': 7966, 'time': '2021-05-12T15:00:00.000000000Z', 'bid': {'o': '1.20753', 'h': '1.20822', 'l': '1.20696', 'c': '1.20727'}, 'mid': {'o': '1.20760', 'h': '1.20828', 'l': '1.20702', 'c': '1.20734'}, 'ask': {'o': '1.20767', 'h': '1.20835', 'l': '1.20709', 'c': '1.20740'}}\n",
      "{'complete': True, 'volume': 6940, 'time': '2021-05-12T16:00:00.000000000Z', 'bid': {'o': '1.20728', 'h': '1.20752', 'l': '1.20649', 'c': '1.20658'}, 'mid': {'o': '1.20735', 'h': '1.20758', 'l': '1.20656', 'c': '1.20664'}, 'ask': {'o': '1.20742', 'h': '1.20765', 'l': '1.20662', 'c': '1.20670'}}\n",
      "{'complete': True, 'volume': 6679, 'time': '2021-05-12T17:00:00.000000000Z', 'bid': {'o': '1.20656', 'h': '1.20780', 'l': '1.20649', 'c': '1.20743'}, 'mid': {'o': '1.20662', 'h': '1.20786', 'l': '1.20656', 'c': '1.20750'}, 'ask': {'o': '1.20668', 'h': '1.20792', 'l': '1.20663', 'c': '1.20756'}}\n",
      "{'complete': True, 'volume': 4663, 'time': '2021-05-12T18:00:00.000000000Z', 'bid': {'o': '1.20742', 'h': '1.20820', 'l': '1.20733', 'c': '1.20792'}, 'mid': {'o': '1.20748', 'h': '1.20826', 'l': '1.20739', 'c': '1.20798'}, 'ask': {'o': '1.20755', 'h': '1.20833', 'l': '1.20745', 'c': '1.20805'}}\n",
      "{'complete': True, 'volume': 3735, 'time': '2021-05-12T19:00:00.000000000Z', 'bid': {'o': '1.20791', 'h': '1.20818', 'l': '1.20712', 'c': '1.20745'}, 'mid': {'o': '1.20798', 'h': '1.20825', 'l': '1.20719', 'c': '1.20752'}, 'ask': {'o': '1.20804', 'h': '1.20832', 'l': '1.20726', 'c': '1.20759'}}\n",
      "{'complete': False, 'volume': 1145, 'time': '2021-05-12T20:00:00.000000000Z', 'bid': {'o': '1.20747', 'h': '1.20774', 'l': '1.20684', 'c': '1.20723'}, 'mid': {'o': '1.20754', 'h': '1.20781', 'l': '1.20692', 'c': '1.20730'}, 'ask': {'o': '1.20760', 'h': '1.20788', 'l': '1.20699', 'c': '1.20737'}}\n"
     ]
    }
   ],
   "source": [
    "for candle in data['candles']:\n",
    "    print(candle)"
   ]
  },
  {
   "cell_type": "code",
   "execution_count": 15,
   "metadata": {},
   "outputs": [],
   "source": [
    "prices = ['mid', 'bid', 'ask']\n",
    "ohlc = ['o','h','l','c']"
   ]
  },
  {
   "cell_type": "code",
   "execution_count": 16,
   "metadata": {},
   "outputs": [],
   "source": [
    "def get_price(dictionary,prices,ohlc,candle):\n",
    "    for price in prices:\n",
    "        for oh in ohlc:\n",
    "            new_dict[f\"{price}_{oh}\"] = candle[price][oh]"
   ]
  },
  {
   "cell_type": "code",
   "execution_count": 17,
   "metadata": {},
   "outputs": [],
   "source": [
    "our_data= []\n",
    "for candle in data['candles']:\n",
    "    if candle['complete'] == False:\n",
    "        continue\n",
    "    new_dict = {}\n",
    "    new_dict['time'] = candle['time']\n",
    "    new_dict['volume'] = candle['volume']\n",
    "    price = get_price(new_dict,prices,ohlc,candle)\n",
    "    our_data.append(new_dict)"
   ]
  },
  {
   "cell_type": "code",
   "execution_count": 18,
   "metadata": {},
   "outputs": [
    {
     "data": {
      "text/plain": [
       "[{'time': '2021-05-12T11:00:00.000000000Z',\n",
       "  'volume': 4306,\n",
       "  'mid_o': '1.21260',\n",
       "  'mid_h': '1.21284',\n",
       "  'mid_l': '1.21172',\n",
       "  'mid_c': '1.21184',\n",
       "  'bid_o': '1.21253',\n",
       "  'bid_h': '1.21278',\n",
       "  'bid_l': '1.21165',\n",
       "  'bid_c': '1.21177',\n",
       "  'ask_o': '1.21266',\n",
       "  'ask_h': '1.21291',\n",
       "  'ask_l': '1.21179',\n",
       "  'ask_c': '1.21190'},\n",
       " {'time': '2021-05-12T12:00:00.000000000Z',\n",
       "  'volume': 21218,\n",
       "  'mid_o': '1.21185',\n",
       "  'mid_h': '1.21468',\n",
       "  'mid_l': '1.20720',\n",
       "  'mid_c': '1.21300',\n",
       "  'bid_o': '1.21179',\n",
       "  'bid_h': '1.21461',\n",
       "  'bid_l': '1.20712',\n",
       "  'bid_c': '1.21293',\n",
       "  'ask_o': '1.21191',\n",
       "  'ask_h': '1.21474',\n",
       "  'ask_l': '1.20727',\n",
       "  'ask_c': '1.21307'},\n",
       " {'time': '2021-05-12T13:00:00.000000000Z',\n",
       "  'volume': 20494,\n",
       "  'mid_o': '1.21302',\n",
       "  'mid_h': '1.21524',\n",
       "  'mid_l': '1.20914',\n",
       "  'mid_c': '1.21012',\n",
       "  'bid_o': '1.21296',\n",
       "  'bid_h': '1.21516',\n",
       "  'bid_l': '1.20908',\n",
       "  'bid_c': '1.21005',\n",
       "  'ask_o': '1.21308',\n",
       "  'ask_h': '1.21531',\n",
       "  'ask_l': '1.20921',\n",
       "  'ask_c': '1.21018'},\n",
       " {'time': '2021-05-12T14:00:00.000000000Z',\n",
       "  'volume': 14431,\n",
       "  'mid_o': '1.21014',\n",
       "  'mid_h': '1.21024',\n",
       "  'mid_l': '1.20660',\n",
       "  'mid_c': '1.20758',\n",
       "  'bid_o': '1.21007',\n",
       "  'bid_h': '1.21017',\n",
       "  'bid_l': '1.20654',\n",
       "  'bid_c': '1.20751',\n",
       "  'ask_o': '1.21020',\n",
       "  'ask_h': '1.21030',\n",
       "  'ask_l': '1.20666',\n",
       "  'ask_c': '1.20765'},\n",
       " {'time': '2021-05-12T15:00:00.000000000Z',\n",
       "  'volume': 7966,\n",
       "  'mid_o': '1.20760',\n",
       "  'mid_h': '1.20828',\n",
       "  'mid_l': '1.20702',\n",
       "  'mid_c': '1.20734',\n",
       "  'bid_o': '1.20753',\n",
       "  'bid_h': '1.20822',\n",
       "  'bid_l': '1.20696',\n",
       "  'bid_c': '1.20727',\n",
       "  'ask_o': '1.20767',\n",
       "  'ask_h': '1.20835',\n",
       "  'ask_l': '1.20709',\n",
       "  'ask_c': '1.20740'},\n",
       " {'time': '2021-05-12T16:00:00.000000000Z',\n",
       "  'volume': 6940,\n",
       "  'mid_o': '1.20735',\n",
       "  'mid_h': '1.20758',\n",
       "  'mid_l': '1.20656',\n",
       "  'mid_c': '1.20664',\n",
       "  'bid_o': '1.20728',\n",
       "  'bid_h': '1.20752',\n",
       "  'bid_l': '1.20649',\n",
       "  'bid_c': '1.20658',\n",
       "  'ask_o': '1.20742',\n",
       "  'ask_h': '1.20765',\n",
       "  'ask_l': '1.20662',\n",
       "  'ask_c': '1.20670'},\n",
       " {'time': '2021-05-12T17:00:00.000000000Z',\n",
       "  'volume': 6679,\n",
       "  'mid_o': '1.20662',\n",
       "  'mid_h': '1.20786',\n",
       "  'mid_l': '1.20656',\n",
       "  'mid_c': '1.20750',\n",
       "  'bid_o': '1.20656',\n",
       "  'bid_h': '1.20780',\n",
       "  'bid_l': '1.20649',\n",
       "  'bid_c': '1.20743',\n",
       "  'ask_o': '1.20668',\n",
       "  'ask_h': '1.20792',\n",
       "  'ask_l': '1.20663',\n",
       "  'ask_c': '1.20756'},\n",
       " {'time': '2021-05-12T18:00:00.000000000Z',\n",
       "  'volume': 4663,\n",
       "  'mid_o': '1.20748',\n",
       "  'mid_h': '1.20826',\n",
       "  'mid_l': '1.20739',\n",
       "  'mid_c': '1.20798',\n",
       "  'bid_o': '1.20742',\n",
       "  'bid_h': '1.20820',\n",
       "  'bid_l': '1.20733',\n",
       "  'bid_c': '1.20792',\n",
       "  'ask_o': '1.20755',\n",
       "  'ask_h': '1.20833',\n",
       "  'ask_l': '1.20745',\n",
       "  'ask_c': '1.20805'},\n",
       " {'time': '2021-05-12T19:00:00.000000000Z',\n",
       "  'volume': 3735,\n",
       "  'mid_o': '1.20798',\n",
       "  'mid_h': '1.20825',\n",
       "  'mid_l': '1.20719',\n",
       "  'mid_c': '1.20752',\n",
       "  'bid_o': '1.20791',\n",
       "  'bid_h': '1.20818',\n",
       "  'bid_l': '1.20712',\n",
       "  'bid_c': '1.20745',\n",
       "  'ask_o': '1.20804',\n",
       "  'ask_h': '1.20832',\n",
       "  'ask_l': '1.20726',\n",
       "  'ask_c': '1.20759'}]"
      ]
     },
     "execution_count": 18,
     "metadata": {},
     "output_type": "execute_result"
    }
   ],
   "source": [
    "our_data"
   ]
  },
  {
   "cell_type": "code",
   "execution_count": 19,
   "metadata": {},
   "outputs": [],
   "source": [
    "candles_df = pd.DataFrame.from_dict(our_data)"
   ]
  },
  {
   "cell_type": "code",
   "execution_count": 20,
   "metadata": {},
   "outputs": [
    {
     "data": {
      "text/html": [
       "<div>\n",
       "<style scoped>\n",
       "    .dataframe tbody tr th:only-of-type {\n",
       "        vertical-align: middle;\n",
       "    }\n",
       "\n",
       "    .dataframe tbody tr th {\n",
       "        vertical-align: top;\n",
       "    }\n",
       "\n",
       "    .dataframe thead th {\n",
       "        text-align: right;\n",
       "    }\n",
       "</style>\n",
       "<table border=\"1\" class=\"dataframe\">\n",
       "  <thead>\n",
       "    <tr style=\"text-align: right;\">\n",
       "      <th></th>\n",
       "      <th>time</th>\n",
       "      <th>volume</th>\n",
       "      <th>mid_o</th>\n",
       "      <th>mid_h</th>\n",
       "      <th>mid_l</th>\n",
       "      <th>mid_c</th>\n",
       "      <th>bid_o</th>\n",
       "      <th>bid_h</th>\n",
       "      <th>bid_l</th>\n",
       "      <th>bid_c</th>\n",
       "      <th>ask_o</th>\n",
       "      <th>ask_h</th>\n",
       "      <th>ask_l</th>\n",
       "      <th>ask_c</th>\n",
       "    </tr>\n",
       "  </thead>\n",
       "  <tbody>\n",
       "    <tr>\n",
       "      <th>0</th>\n",
       "      <td>2021-05-12T11:00:00.000000000Z</td>\n",
       "      <td>4306</td>\n",
       "      <td>1.21260</td>\n",
       "      <td>1.21284</td>\n",
       "      <td>1.21172</td>\n",
       "      <td>1.21184</td>\n",
       "      <td>1.21253</td>\n",
       "      <td>1.21278</td>\n",
       "      <td>1.21165</td>\n",
       "      <td>1.21177</td>\n",
       "      <td>1.21266</td>\n",
       "      <td>1.21291</td>\n",
       "      <td>1.21179</td>\n",
       "      <td>1.21190</td>\n",
       "    </tr>\n",
       "    <tr>\n",
       "      <th>1</th>\n",
       "      <td>2021-05-12T12:00:00.000000000Z</td>\n",
       "      <td>21218</td>\n",
       "      <td>1.21185</td>\n",
       "      <td>1.21468</td>\n",
       "      <td>1.20720</td>\n",
       "      <td>1.21300</td>\n",
       "      <td>1.21179</td>\n",
       "      <td>1.21461</td>\n",
       "      <td>1.20712</td>\n",
       "      <td>1.21293</td>\n",
       "      <td>1.21191</td>\n",
       "      <td>1.21474</td>\n",
       "      <td>1.20727</td>\n",
       "      <td>1.21307</td>\n",
       "    </tr>\n",
       "    <tr>\n",
       "      <th>2</th>\n",
       "      <td>2021-05-12T13:00:00.000000000Z</td>\n",
       "      <td>20494</td>\n",
       "      <td>1.21302</td>\n",
       "      <td>1.21524</td>\n",
       "      <td>1.20914</td>\n",
       "      <td>1.21012</td>\n",
       "      <td>1.21296</td>\n",
       "      <td>1.21516</td>\n",
       "      <td>1.20908</td>\n",
       "      <td>1.21005</td>\n",
       "      <td>1.21308</td>\n",
       "      <td>1.21531</td>\n",
       "      <td>1.20921</td>\n",
       "      <td>1.21018</td>\n",
       "    </tr>\n",
       "    <tr>\n",
       "      <th>3</th>\n",
       "      <td>2021-05-12T14:00:00.000000000Z</td>\n",
       "      <td>14431</td>\n",
       "      <td>1.21014</td>\n",
       "      <td>1.21024</td>\n",
       "      <td>1.20660</td>\n",
       "      <td>1.20758</td>\n",
       "      <td>1.21007</td>\n",
       "      <td>1.21017</td>\n",
       "      <td>1.20654</td>\n",
       "      <td>1.20751</td>\n",
       "      <td>1.21020</td>\n",
       "      <td>1.21030</td>\n",
       "      <td>1.20666</td>\n",
       "      <td>1.20765</td>\n",
       "    </tr>\n",
       "    <tr>\n",
       "      <th>4</th>\n",
       "      <td>2021-05-12T15:00:00.000000000Z</td>\n",
       "      <td>7966</td>\n",
       "      <td>1.20760</td>\n",
       "      <td>1.20828</td>\n",
       "      <td>1.20702</td>\n",
       "      <td>1.20734</td>\n",
       "      <td>1.20753</td>\n",
       "      <td>1.20822</td>\n",
       "      <td>1.20696</td>\n",
       "      <td>1.20727</td>\n",
       "      <td>1.20767</td>\n",
       "      <td>1.20835</td>\n",
       "      <td>1.20709</td>\n",
       "      <td>1.20740</td>\n",
       "    </tr>\n",
       "    <tr>\n",
       "      <th>5</th>\n",
       "      <td>2021-05-12T16:00:00.000000000Z</td>\n",
       "      <td>6940</td>\n",
       "      <td>1.20735</td>\n",
       "      <td>1.20758</td>\n",
       "      <td>1.20656</td>\n",
       "      <td>1.20664</td>\n",
       "      <td>1.20728</td>\n",
       "      <td>1.20752</td>\n",
       "      <td>1.20649</td>\n",
       "      <td>1.20658</td>\n",
       "      <td>1.20742</td>\n",
       "      <td>1.20765</td>\n",
       "      <td>1.20662</td>\n",
       "      <td>1.20670</td>\n",
       "    </tr>\n",
       "    <tr>\n",
       "      <th>6</th>\n",
       "      <td>2021-05-12T17:00:00.000000000Z</td>\n",
       "      <td>6679</td>\n",
       "      <td>1.20662</td>\n",
       "      <td>1.20786</td>\n",
       "      <td>1.20656</td>\n",
       "      <td>1.20750</td>\n",
       "      <td>1.20656</td>\n",
       "      <td>1.20780</td>\n",
       "      <td>1.20649</td>\n",
       "      <td>1.20743</td>\n",
       "      <td>1.20668</td>\n",
       "      <td>1.20792</td>\n",
       "      <td>1.20663</td>\n",
       "      <td>1.20756</td>\n",
       "    </tr>\n",
       "    <tr>\n",
       "      <th>7</th>\n",
       "      <td>2021-05-12T18:00:00.000000000Z</td>\n",
       "      <td>4663</td>\n",
       "      <td>1.20748</td>\n",
       "      <td>1.20826</td>\n",
       "      <td>1.20739</td>\n",
       "      <td>1.20798</td>\n",
       "      <td>1.20742</td>\n",
       "      <td>1.20820</td>\n",
       "      <td>1.20733</td>\n",
       "      <td>1.20792</td>\n",
       "      <td>1.20755</td>\n",
       "      <td>1.20833</td>\n",
       "      <td>1.20745</td>\n",
       "      <td>1.20805</td>\n",
       "    </tr>\n",
       "    <tr>\n",
       "      <th>8</th>\n",
       "      <td>2021-05-12T19:00:00.000000000Z</td>\n",
       "      <td>3735</td>\n",
       "      <td>1.20798</td>\n",
       "      <td>1.20825</td>\n",
       "      <td>1.20719</td>\n",
       "      <td>1.20752</td>\n",
       "      <td>1.20791</td>\n",
       "      <td>1.20818</td>\n",
       "      <td>1.20712</td>\n",
       "      <td>1.20745</td>\n",
       "      <td>1.20804</td>\n",
       "      <td>1.20832</td>\n",
       "      <td>1.20726</td>\n",
       "      <td>1.20759</td>\n",
       "    </tr>\n",
       "  </tbody>\n",
       "</table>\n",
       "</div>"
      ],
      "text/plain": [
       "                             time  volume    mid_o    mid_h    mid_l    mid_c  \\\n",
       "0  2021-05-12T11:00:00.000000000Z    4306  1.21260  1.21284  1.21172  1.21184   \n",
       "1  2021-05-12T12:00:00.000000000Z   21218  1.21185  1.21468  1.20720  1.21300   \n",
       "2  2021-05-12T13:00:00.000000000Z   20494  1.21302  1.21524  1.20914  1.21012   \n",
       "3  2021-05-12T14:00:00.000000000Z   14431  1.21014  1.21024  1.20660  1.20758   \n",
       "4  2021-05-12T15:00:00.000000000Z    7966  1.20760  1.20828  1.20702  1.20734   \n",
       "5  2021-05-12T16:00:00.000000000Z    6940  1.20735  1.20758  1.20656  1.20664   \n",
       "6  2021-05-12T17:00:00.000000000Z    6679  1.20662  1.20786  1.20656  1.20750   \n",
       "7  2021-05-12T18:00:00.000000000Z    4663  1.20748  1.20826  1.20739  1.20798   \n",
       "8  2021-05-12T19:00:00.000000000Z    3735  1.20798  1.20825  1.20719  1.20752   \n",
       "\n",
       "     bid_o    bid_h    bid_l    bid_c    ask_o    ask_h    ask_l    ask_c  \n",
       "0  1.21253  1.21278  1.21165  1.21177  1.21266  1.21291  1.21179  1.21190  \n",
       "1  1.21179  1.21461  1.20712  1.21293  1.21191  1.21474  1.20727  1.21307  \n",
       "2  1.21296  1.21516  1.20908  1.21005  1.21308  1.21531  1.20921  1.21018  \n",
       "3  1.21007  1.21017  1.20654  1.20751  1.21020  1.21030  1.20666  1.20765  \n",
       "4  1.20753  1.20822  1.20696  1.20727  1.20767  1.20835  1.20709  1.20740  \n",
       "5  1.20728  1.20752  1.20649  1.20658  1.20742  1.20765  1.20662  1.20670  \n",
       "6  1.20656  1.20780  1.20649  1.20743  1.20668  1.20792  1.20663  1.20756  \n",
       "7  1.20742  1.20820  1.20733  1.20792  1.20755  1.20833  1.20745  1.20805  \n",
       "8  1.20791  1.20818  1.20712  1.20745  1.20804  1.20832  1.20726  1.20759  "
      ]
     },
     "execution_count": 20,
     "metadata": {},
     "output_type": "execute_result"
    }
   ],
   "source": [
    "candles_df"
   ]
  },
  {
   "cell_type": "code",
   "execution_count": 22,
   "metadata": {},
   "outputs": [],
   "source": [
    "candles_df.to_pickle(\"EUR_USD_H1.pkl\")"
   ]
  },
  {
   "cell_type": "code",
   "execution_count": null,
   "metadata": {},
   "outputs": [],
   "source": []
  }
 ],
 "metadata": {
  "kernelspec": {
   "display_name": "Python 3",
   "language": "python",
   "name": "python3"
  },
  "language_info": {
   "codemirror_mode": {
    "name": "ipython",
    "version": 3
   },
   "file_extension": ".py",
   "mimetype": "text/x-python",
   "name": "python",
   "nbconvert_exporter": "python",
   "pygments_lexer": "ipython3",
   "version": "3.8.5"
  }
 },
 "nbformat": 4,
 "nbformat_minor": 4
}
