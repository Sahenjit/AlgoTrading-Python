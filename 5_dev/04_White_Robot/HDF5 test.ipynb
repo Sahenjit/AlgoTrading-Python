{
 "cells": [
  {
   "cell_type": "code",
   "execution_count": 1,
   "id": "d0adb07e",
   "metadata": {},
   "outputs": [],
   "source": [
    "import pandas as pd\n",
    "from Generate_Sample_Data import generate_sample_data"
   ]
  },
  {
   "cell_type": "code",
   "execution_count": 2,
   "id": "c1a546be",
   "metadata": {},
   "outputs": [
    {
     "name": "stdout",
     "output_type": "stream",
     "text": [
      "                            No0         No1         No2         No3\n",
      "2021-01-01 00:00:00  100.000000  100.000000  100.000000  100.000000\n",
      "2021-01-01 00:01:00  100.039625  100.004641   99.909918  100.040314\n",
      "2021-01-01 00:02:00   99.994222  100.039775   99.779769  100.004259\n",
      "2021-01-01 00:03:00  100.105636  100.125495   99.863707   99.988745\n",
      "2021-01-01 00:04:00  100.022019  100.222195   99.793877   99.989994\n"
     ]
    }
   ],
   "source": [
    "print(generate_sample_data(rows =5, cols = 4))"
   ]
  },
  {
   "cell_type": "code",
   "execution_count": 3,
   "id": "150cb5de",
   "metadata": {},
   "outputs": [],
   "source": [
    "data = generate_sample_data(rows = 5e6, cols = 10).round(4)"
   ]
  },
  {
   "cell_type": "code",
   "execution_count": 5,
   "id": "d0dbaed0",
   "metadata": {},
   "outputs": [],
   "source": [
    "h5 = pd.HDFStore('data.h5', 'w')"
   ]
  },
  {
   "cell_type": "code",
   "execution_count": 6,
   "id": "97247cff",
   "metadata": {},
   "outputs": [],
   "source": [
    "h5['data'] = data"
   ]
  },
  {
   "cell_type": "code",
   "execution_count": 7,
   "id": "b00bd606",
   "metadata": {},
   "outputs": [
    {
     "data": {
      "text/plain": [
       "<class 'pandas.io.pytables.HDFStore'>\n",
       "File path: data.h5"
      ]
     },
     "execution_count": 7,
     "metadata": {},
     "output_type": "execute_result"
    }
   ],
   "source": [
    "h5"
   ]
  },
  {
   "cell_type": "code",
   "execution_count": 8,
   "id": "2510d5c9",
   "metadata": {},
   "outputs": [],
   "source": [
    "h5.close()"
   ]
  },
  {
   "cell_type": "code",
   "execution_count": null,
   "id": "2d63f87c",
   "metadata": {},
   "outputs": [],
   "source": [
    "h5 = "
   ]
  }
 ],
 "metadata": {
  "kernelspec": {
   "display_name": "Python 3",
   "language": "python",
   "name": "python3"
  },
  "language_info": {
   "codemirror_mode": {
    "name": "ipython",
    "version": 3
   },
   "file_extension": ".py",
   "mimetype": "text/x-python",
   "name": "python",
   "nbconvert_exporter": "python",
   "pygments_lexer": "ipython3",
   "version": "3.9.4"
  }
 },
 "nbformat": 4,
 "nbformat_minor": 5
}
