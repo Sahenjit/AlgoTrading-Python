{
 "cells": [
  {
   "cell_type": "code",
   "execution_count": 1,
   "id": "d0adb07e",
   "metadata": {},
   "outputs": [],
   "source": [
    "import pandas as pd\n",
    "import tables as tb\n",
    "from Generate_Sample_Data import generate_sample_data"
   ]
  },
  {
   "cell_type": "code",
   "execution_count": 2,
   "id": "53ce0eb3",
   "metadata": {},
   "outputs": [],
   "source": [
    "#Storing Data Efficiently"
   ]
  },
  {
   "cell_type": "code",
   "execution_count": 3,
   "id": "c1a546be",
   "metadata": {},
   "outputs": [
    {
     "name": "stdout",
     "output_type": "stream",
     "text": [
      "                            No0         No1         No2         No3\n",
      "2021-01-01 00:00:00  100.000000  100.000000  100.000000  100.000000\n",
      "2021-01-01 00:01:00   99.949219  100.037649   99.950333  100.066652\n",
      "2021-01-01 00:02:00   99.929363  100.042161  100.038854  100.003108\n",
      "2021-01-01 00:03:00   99.963795   99.963333   99.848278   99.973874\n",
      "2021-01-01 00:04:00   99.841858  100.027047   99.835543   99.934404\n"
     ]
    }
   ],
   "source": [
    "print(generate_sample_data(rows =5, cols = 4))"
   ]
  },
  {
   "cell_type": "code",
   "execution_count": 4,
   "id": "150cb5de",
   "metadata": {},
   "outputs": [],
   "source": [
    "data = generate_sample_data(rows = 5e6, cols = 10).round(4)"
   ]
  },
  {
   "cell_type": "code",
   "execution_count": null,
   "id": "d0dbaed0",
   "metadata": {},
   "outputs": [],
   "source": [
    "h5 = pd.HDFStore('data.h5', 'w')"
   ]
  },
  {
   "cell_type": "code",
   "execution_count": null,
   "id": "97247cff",
   "metadata": {},
   "outputs": [],
   "source": [
    "h5['data'] = data"
   ]
  },
  {
   "cell_type": "code",
   "execution_count": null,
   "id": "b00bd606",
   "metadata": {},
   "outputs": [],
   "source": [
    "h5"
   ]
  },
  {
   "cell_type": "code",
   "execution_count": null,
   "id": "2510d5c9",
   "metadata": {},
   "outputs": [],
   "source": [
    "h5.close()"
   ]
  },
  {
   "cell_type": "code",
   "execution_count": null,
   "id": "2d63f87c",
   "metadata": {},
   "outputs": [],
   "source": [
    "h5 = pd.HDFStore('data.h5')"
   ]
  },
  {
   "cell_type": "code",
   "execution_count": null,
   "id": "e636f69f",
   "metadata": {},
   "outputs": [],
   "source": [
    "data_copy = h5['data']"
   ]
  },
  {
   "cell_type": "code",
   "execution_count": null,
   "id": "519b3c3b",
   "metadata": {},
   "outputs": [],
   "source": [
    "data_copy.info()"
   ]
  },
  {
   "cell_type": "code",
   "execution_count": null,
   "id": "36992d01",
   "metadata": {},
   "outputs": [],
   "source": [
    "h5.close()"
   ]
  },
  {
   "cell_type": "code",
   "execution_count": null,
   "id": "fc6d2d81",
   "metadata": {},
   "outputs": [],
   "source": [
    "data.to_hdf('data.h5', 'data', format = 'table')"
   ]
  },
  {
   "cell_type": "code",
   "execution_count": null,
   "id": "d601737a",
   "metadata": {},
   "outputs": [],
   "source": [
    "data_copy = pd.read_hdf('data.h5', 'data')"
   ]
  },
  {
   "cell_type": "code",
   "execution_count": null,
   "id": "e0a5f09c",
   "metadata": {},
   "outputs": [],
   "source": [
    "data_copy.info()"
   ]
  },
  {
   "cell_type": "code",
   "execution_count": null,
   "id": "01e2de01",
   "metadata": {},
   "outputs": [],
   "source": [
    "h5 = tb.open_file('data.h5', 'r')"
   ]
  },
  {
   "cell_type": "code",
   "execution_count": null,
   "id": "72e7ba12",
   "metadata": {},
   "outputs": [],
   "source": [
    "h5"
   ]
  },
  {
   "cell_type": "code",
   "execution_count": null,
   "id": "b476cadf",
   "metadata": {},
   "outputs": [],
   "source": [
    "h5.root.data.table[:3]"
   ]
  },
  {
   "cell_type": "code",
   "execution_count": null,
   "id": "12b8ee3b",
   "metadata": {},
   "outputs": [],
   "source": [
    "h5.close()"
   ]
  },
  {
   "cell_type": "code",
   "execution_count": null,
   "id": "e9c309fa",
   "metadata": {},
   "outputs": [],
   "source": []
  }
 ],
 "metadata": {
  "kernelspec": {
   "display_name": "Python 3",
   "language": "python",
   "name": "python3"
  },
  "language_info": {
   "codemirror_mode": {
    "name": "ipython",
    "version": 3
   },
   "file_extension": ".py",
   "mimetype": "text/x-python",
   "name": "python",
   "nbconvert_exporter": "python",
   "pygments_lexer": "ipython3",
   "version": "3.8.8"
  }
 },
 "nbformat": 4,
 "nbformat_minor": 5
}
