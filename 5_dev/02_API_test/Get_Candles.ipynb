{
 "cells": [
  {
   "cell_type": "code",
   "execution_count": 13,
   "metadata": {},
   "outputs": [],
   "source": [
    "import requests\n",
    "import defs"
   ]
  },
  {
   "cell_type": "code",
   "execution_count": 14,
   "metadata": {},
   "outputs": [],
   "source": [
    "session = requests.Session()"
   ]
  },
  {
   "cell_type": "code",
   "execution_count": 15,
   "metadata": {},
   "outputs": [
    {
     "data": {
      "text/plain": [
       "'101-004-19105515-001'"
      ]
     },
     "execution_count": 15,
     "metadata": {},
     "output_type": "execute_result"
    }
   ],
   "source": [
    "defs.ACCOUNT_ID"
   ]
  },
  {
   "cell_type": "code",
   "execution_count": 16,
   "metadata": {},
   "outputs": [],
   "source": [
    "count = 10 \n",
    "granularity = \"H1\""
   ]
  },
  {
   "cell_type": "code",
   "execution_count": 35,
   "metadata": {},
   "outputs": [],
   "source": [
    "instrument = \"EUR_USD\""
   ]
  },
  {
   "cell_type": "code",
   "execution_count": 36,
   "metadata": {},
   "outputs": [
    {
     "data": {
      "text/plain": [
       "'https://api-fxpractice.oanda.com/v3/instruments/EUR_USD/candles'"
      ]
     },
     "execution_count": 36,
     "metadata": {},
     "output_type": "execute_result"
    }
   ],
   "source": [
    "url = f\"{defs.OANDA_URL}/instruments/{instrument}/candles\"\n",
    "url"
   ]
  },
  {
   "cell_type": "code",
   "execution_count": 37,
   "metadata": {},
   "outputs": [],
   "source": [
    "params = dict(\n",
    "    count = count,\n",
    "    granularity = granularity,\n",
    "    price = \"MBA\"\n",
    ")"
   ]
  },
  {
   "cell_type": "code",
   "execution_count": 38,
   "metadata": {},
   "outputs": [
    {
     "data": {
      "text/plain": [
       "{'count': 10, 'granularity': 'H1', 'price': 'MBA'}"
      ]
     },
     "execution_count": 38,
     "metadata": {},
     "output_type": "execute_result"
    }
   ],
   "source": [
    "params"
   ]
  },
  {
   "cell_type": "code",
   "execution_count": 39,
   "metadata": {},
   "outputs": [],
   "source": [
    "response=session.get(url, params = params, headers = defs.SECURE_HEADER)"
   ]
  },
  {
   "cell_type": "code",
   "execution_count": 40,
   "metadata": {},
   "outputs": [
    {
     "data": {
      "text/plain": [
       "200"
      ]
     },
     "execution_count": 40,
     "metadata": {},
     "output_type": "execute_result"
    }
   ],
   "source": [
    "response.status_code"
   ]
  },
  {
   "cell_type": "code",
   "execution_count": 41,
   "metadata": {},
   "outputs": [
    {
     "data": {
      "text/plain": [
       "{'instrument': 'EUR_USD',\n",
       " 'granularity': 'H1',\n",
       " 'candles': [{'complete': True,\n",
       "   'volume': 3140,\n",
       "   'time': '2021-05-04T10:00:00.000000000Z',\n",
       "   'bid': {'o': '1.20073', 'h': '1.20142', 'l': '1.20030', 'c': '1.20109'},\n",
       "   'mid': {'o': '1.20079', 'h': '1.20148', 'l': '1.20037', 'c': '1.20116'},\n",
       "   'ask': {'o': '1.20085', 'h': '1.20154', 'l': '1.20043', 'c': '1.20122'}},\n",
       "  {'complete': True,\n",
       "   'volume': 5673,\n",
       "   'time': '2021-05-04T11:00:00.000000000Z',\n",
       "   'bid': {'o': '1.20108', 'h': '1.20209', 'l': '1.20073', 'c': '1.20195'},\n",
       "   'mid': {'o': '1.20114', 'h': '1.20216', 'l': '1.20079', 'c': '1.20201'},\n",
       "   'ask': {'o': '1.20120', 'h': '1.20222', 'l': '1.20085', 'c': '1.20207'}},\n",
       "  {'complete': True,\n",
       "   'volume': 6059,\n",
       "   'time': '2021-05-04T12:00:00.000000000Z',\n",
       "   'bid': {'o': '1.20194', 'h': '1.20300', 'l': '1.20155', 'c': '1.20252'},\n",
       "   'mid': {'o': '1.20200', 'h': '1.20306', 'l': '1.20161', 'c': '1.20257'},\n",
       "   'ask': {'o': '1.20206', 'h': '1.20311', 'l': '1.20166', 'c': '1.20262'}},\n",
       "  {'complete': True,\n",
       "   'volume': 5813,\n",
       "   'time': '2021-05-04T13:00:00.000000000Z',\n",
       "   'bid': {'o': '1.20253', 'h': '1.20294', 'l': '1.20162', 'c': '1.20237'},\n",
       "   'mid': {'o': '1.20259', 'h': '1.20300', 'l': '1.20168', 'c': '1.20244'},\n",
       "   'ask': {'o': '1.20265', 'h': '1.20307', 'l': '1.20173', 'c': '1.20252'}},\n",
       "  {'complete': True,\n",
       "   'volume': 7605,\n",
       "   'time': '2021-05-04T14:00:00.000000000Z',\n",
       "   'bid': {'o': '1.20235', 'h': '1.20326', 'l': '1.20159', 'c': '1.20321'},\n",
       "   'mid': {'o': '1.20242', 'h': '1.20332', 'l': '1.20165', 'c': '1.20327'},\n",
       "   'ask': {'o': '1.20250', 'h': '1.20339', 'l': '1.20171', 'c': '1.20333'}},\n",
       "  {'complete': True,\n",
       "   'volume': 10897,\n",
       "   'time': '2021-05-04T15:00:00.000000000Z',\n",
       "   'bid': {'o': '1.20320', 'h': '1.20351', 'l': '1.20009', 'c': '1.20138'},\n",
       "   'mid': {'o': '1.20326', 'h': '1.20357', 'l': '1.20016', 'c': '1.20144'},\n",
       "   'ask': {'o': '1.20331', 'h': '1.20363', 'l': '1.20024', 'c': '1.20150'}},\n",
       "  {'complete': True,\n",
       "   'volume': 5332,\n",
       "   'time': '2021-05-04T16:00:00.000000000Z',\n",
       "   'bid': {'o': '1.20139', 'h': '1.20239', 'l': '1.20106', 'c': '1.20168'},\n",
       "   'mid': {'o': '1.20145', 'h': '1.20245', 'l': '1.20112', 'c': '1.20174'},\n",
       "   'ask': {'o': '1.20151', 'h': '1.20251', 'l': '1.20119', 'c': '1.20180'}},\n",
       "  {'complete': True,\n",
       "   'volume': 3678,\n",
       "   'time': '2021-05-04T17:00:00.000000000Z',\n",
       "   'bid': {'o': '1.20167', 'h': '1.20222', 'l': '1.20119', 'c': '1.20182'},\n",
       "   'mid': {'o': '1.20172', 'h': '1.20228', 'l': '1.20142', 'c': '1.20188'},\n",
       "   'ask': {'o': '1.20178', 'h': '1.20233', 'l': '1.20148', 'c': '1.20195'}},\n",
       "  {'complete': True,\n",
       "   'volume': 2762,\n",
       "   'time': '2021-05-04T18:00:00.000000000Z',\n",
       "   'bid': {'o': '1.20185', 'h': '1.20229', 'l': '1.20106', 'c': '1.20106'},\n",
       "   'mid': {'o': '1.20192', 'h': '1.20236', 'l': '1.20111', 'c': '1.20112'},\n",
       "   'ask': {'o': '1.20198', 'h': '1.20242', 'l': '1.20116', 'c': '1.20118'}},\n",
       "  {'complete': False,\n",
       "   'volume': 2560,\n",
       "   'time': '2021-05-04T19:00:00.000000000Z',\n",
       "   'bid': {'o': '1.20104', 'h': '1.20138', 'l': '1.20087', 'c': '1.20130'},\n",
       "   'mid': {'o': '1.20110', 'h': '1.20144', 'l': '1.20093', 'c': '1.20136'},\n",
       "   'ask': {'o': '1.20116', 'h': '1.20151', 'l': '1.20099', 'c': '1.20142'}}]}"
      ]
     },
     "execution_count": 41,
     "metadata": {},
     "output_type": "execute_result"
    }
   ],
   "source": [
    "response.json()"
   ]
  },
  {
   "cell_type": "code",
   "execution_count": 12,
   "metadata": {},
   "outputs": [
    {
     "ename": "NameError",
     "evalue": "name 'oanda' is not defined",
     "output_type": "error",
     "traceback": [
      "\u001b[0;31m---------------------------------------------------------------------------\u001b[0m",
      "\u001b[0;31mNameError\u001b[0m                                 Traceback (most recent call last)",
      "\u001b[0;32m<ipython-input-12-0f6636cb130d>\u001b[0m in \u001b[0;36m<module>\u001b[0;34m\u001b[0m\n\u001b[0;32m----> 1\u001b[0;31m \u001b[0mins\u001b[0m \u001b[0;34m=\u001b[0m \u001b[0moanda\u001b[0m\u001b[0;34m.\u001b[0m\u001b[0mget_instruments\u001b[0m\u001b[0;34m(\u001b[0m\u001b[0maccount_id\u001b[0m \u001b[0;34m=\u001b[0m \u001b[0maccount_id\u001b[0m\u001b[0;34m)\u001b[0m\u001b[0;34m[\u001b[0m\u001b[0;34m'instruments'\u001b[0m\u001b[0;34m]\u001b[0m\u001b[0;34m\u001b[0m\u001b[0;34m\u001b[0m\u001b[0m\n\u001b[0m",
      "\u001b[0;31mNameError\u001b[0m: name 'oanda' is not defined"
     ]
    }
   ],
   "source": [
    "ins = oanda.get_instruments(account_id = account_id)['instruments']"
   ]
  },
  {
   "cell_type": "code",
   "execution_count": null,
   "metadata": {},
   "outputs": [],
   "source": []
  }
 ],
 "metadata": {
  "kernelspec": {
   "display_name": "Python 3",
   "language": "python",
   "name": "python3"
  },
  "language_info": {
   "codemirror_mode": {
    "name": "ipython",
    "version": 3
   },
   "file_extension": ".py",
   "mimetype": "text/x-python",
   "name": "python",
   "nbconvert_exporter": "python",
   "pygments_lexer": "ipython3",
   "version": "3.8.5"
  }
 },
 "nbformat": 4,
 "nbformat_minor": 4
}
