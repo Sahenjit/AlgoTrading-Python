{
 "cells": [
  {
   "cell_type": "code",
   "execution_count": 2,
   "metadata": {},
   "outputs": [],
   "source": [
    "import requests\n",
    "import defs\n",
    "import pandas as pd"
   ]
  },
  {
   "cell_type": "code",
   "execution_count": 3,
   "metadata": {},
   "outputs": [],
   "source": [
    "session = requests.Session()"
   ]
  },
  {
   "cell_type": "code",
   "execution_count": 4,
   "metadata": {},
   "outputs": [
    {
     "data": {
      "text/plain": [
       "'101-004-19105515-001'"
      ]
     },
     "execution_count": 4,
     "metadata": {},
     "output_type": "execute_result"
    }
   ],
   "source": [
    "defs.ACCOUNT_ID"
   ]
  },
  {
   "cell_type": "code",
   "execution_count": 5,
   "metadata": {},
   "outputs": [],
   "source": [
    "count = 10 \n",
    "granularity = \"H1\""
   ]
  },
  {
   "cell_type": "code",
   "execution_count": 6,
   "metadata": {},
   "outputs": [],
   "source": [
    "instrument = \"EUR_USD\""
   ]
  },
  {
   "cell_type": "code",
   "execution_count": 7,
   "metadata": {},
   "outputs": [
    {
     "data": {
      "text/plain": [
       "'https://api-fxpractice.oanda.com/v3/instruments/EUR_USD/candles'"
      ]
     },
     "execution_count": 7,
     "metadata": {},
     "output_type": "execute_result"
    }
   ],
   "source": [
    "url = f\"{defs.OANDA_URL}/instruments/{instrument}/candles\"\n",
    "url"
   ]
  },
  {
   "cell_type": "code",
   "execution_count": 8,
   "metadata": {},
   "outputs": [],
   "source": [
    "params = dict(\n",
    "    count = count,\n",
    "    granularity = granularity,\n",
    "    price = \"MBA\"\n",
    ")"
   ]
  },
  {
   "cell_type": "code",
   "execution_count": 9,
   "metadata": {},
   "outputs": [
    {
     "data": {
      "text/plain": [
       "{'count': 10, 'granularity': 'H1', 'price': 'MBA'}"
      ]
     },
     "execution_count": 9,
     "metadata": {},
     "output_type": "execute_result"
    }
   ],
   "source": [
    "params"
   ]
  },
  {
   "cell_type": "code",
   "execution_count": 10,
   "metadata": {},
   "outputs": [],
   "source": [
    "response=session.get(url, params = params, headers = defs.SECURE_HEADER)"
   ]
  },
  {
   "cell_type": "code",
   "execution_count": 11,
   "metadata": {},
   "outputs": [
    {
     "data": {
      "text/plain": [
       "200"
      ]
     },
     "execution_count": 11,
     "metadata": {},
     "output_type": "execute_result"
    }
   ],
   "source": [
    "response.status_code"
   ]
  },
  {
   "cell_type": "code",
   "execution_count": 12,
   "metadata": {},
   "outputs": [],
   "source": [
    "data = response.json()"
   ]
  },
  {
   "cell_type": "code",
   "execution_count": 13,
   "metadata": {},
   "outputs": [
    {
     "data": {
      "text/plain": [
       "dict_keys(['instrument', 'granularity', 'candles'])"
      ]
     },
     "execution_count": 13,
     "metadata": {},
     "output_type": "execute_result"
    }
   ],
   "source": [
    "data.keys()"
   ]
  },
  {
   "cell_type": "code",
   "execution_count": 14,
   "metadata": {},
   "outputs": [
    {
     "name": "stdout",
     "output_type": "stream",
     "text": [
      "{'complete': True, 'volume': 718, 'time': '2021-05-05T04:00:00.000000000Z', 'bid': {'o': '1.20234', 'h': '1.20250', 'l': '1.20214', 'c': '1.20218'}, 'mid': {'o': '1.20241', 'h': '1.20256', 'l': '1.20220', 'c': '1.20225'}, 'ask': {'o': '1.20248', 'h': '1.20263', 'l': '1.20227', 'c': '1.20232'}}\n",
      "{'complete': True, 'volume': 966, 'time': '2021-05-05T05:00:00.000000000Z', 'bid': {'o': '1.20218', 'h': '1.20218', 'l': '1.20113', 'c': '1.20116'}, 'mid': {'o': '1.20224', 'h': '1.20225', 'l': '1.20120', 'c': '1.20124'}, 'ask': {'o': '1.20230', 'h': '1.20232', 'l': '1.20127', 'c': '1.20131'}}\n",
      "{'complete': True, 'volume': 4580, 'time': '2021-05-05T06:00:00.000000000Z', 'bid': {'o': '1.20114', 'h': '1.20154', 'l': '1.19925', 'c': '1.19991'}, 'mid': {'o': '1.20122', 'h': '1.20160', 'l': '1.19932', 'c': '1.19998'}, 'ask': {'o': '1.20129', 'h': '1.20166', 'l': '1.19938', 'c': '1.20004'}}\n",
      "{'complete': True, 'volume': 5983, 'time': '2021-05-05T07:00:00.000000000Z', 'bid': {'o': '1.19992', 'h': '1.20043', 'l': '1.19853', 'c': '1.19938'}, 'mid': {'o': '1.19998', 'h': '1.20049', 'l': '1.19860', 'c': '1.19944'}, 'ask': {'o': '1.20005', 'h': '1.20055', 'l': '1.19867', 'c': '1.19950'}}\n",
      "{'complete': True, 'volume': 4114, 'time': '2021-05-05T08:00:00.000000000Z', 'bid': {'o': '1.19940', 'h': '1.19964', 'l': '1.19864', 'c': '1.19961'}, 'mid': {'o': '1.19946', 'h': '1.19970', 'l': '1.19871', 'c': '1.19968'}, 'ask': {'o': '1.19951', 'h': '1.19976', 'l': '1.19878', 'c': '1.19974'}}\n",
      "{'complete': True, 'volume': 2706, 'time': '2021-05-05T09:00:00.000000000Z', 'bid': {'o': '1.19959', 'h': '1.20038', 'l': '1.19925', 'c': '1.20031'}, 'mid': {'o': '1.19966', 'h': '1.20044', 'l': '1.19932', 'c': '1.20038'}, 'ask': {'o': '1.19973', 'h': '1.20050', 'l': '1.19938', 'c': '1.20044'}}\n",
      "{'complete': True, 'volume': 4370, 'time': '2021-05-05T10:00:00.000000000Z', 'bid': {'o': '1.20032', 'h': '1.20194', 'l': '1.20032', 'c': '1.20155'}, 'mid': {'o': '1.20038', 'h': '1.20200', 'l': '1.20038', 'c': '1.20162'}, 'ask': {'o': '1.20045', 'h': '1.20205', 'l': '1.20044', 'c': '1.20168'}}\n",
      "{'complete': True, 'volume': 3576, 'time': '2021-05-05T11:00:00.000000000Z', 'bid': {'o': '1.20157', 'h': '1.20181', 'l': '1.20062', 'c': '1.20087'}, 'mid': {'o': '1.20162', 'h': '1.20188', 'l': '1.20068', 'c': '1.20094'}, 'ask': {'o': '1.20168', 'h': '1.20194', 'l': '1.20074', 'c': '1.20100'}}\n",
      "{'complete': True, 'volume': 6472, 'time': '2021-05-05T12:00:00.000000000Z', 'bid': {'o': '1.20086', 'h': '1.20110', 'l': '1.19909', 'c': '1.19964'}, 'mid': {'o': '1.20092', 'h': '1.20116', 'l': '1.19916', 'c': '1.19970'}, 'ask': {'o': '1.20099', 'h': '1.20123', 'l': '1.19922', 'c': '1.19976'}}\n",
      "{'complete': False, 'volume': 2055, 'time': '2021-05-05T13:00:00.000000000Z', 'bid': {'o': '1.19963', 'h': '1.20058', 'l': '1.19963', 'c': '1.20053'}, 'mid': {'o': '1.19969', 'h': '1.20064', 'l': '1.19969', 'c': '1.20060'}, 'ask': {'o': '1.19975', 'h': '1.20069', 'l': '1.19975', 'c': '1.20066'}}\n"
     ]
    }
   ],
   "source": [
    "for candle in data['candles']:\n",
    "    print(candle)"
   ]
  },
  {
   "cell_type": "code",
   "execution_count": 15,
   "metadata": {},
   "outputs": [],
   "source": [
    "prices = ['mid', 'bid', 'ask']\n",
    "ohlc = ['o','h','l','c']"
   ]
  },
  {
   "cell_type": "code",
   "execution_count": 16,
   "metadata": {},
   "outputs": [],
   "source": [
    "def get_price(dictionary,prices,ohlc,candle):\n",
    "    for price in prices:\n",
    "        for oh in ohlc:\n",
    "            new_dict[f\"{price}_{oh}\"] = candle[price][oh]"
   ]
  },
  {
   "cell_type": "code",
   "execution_count": 17,
   "metadata": {},
   "outputs": [],
   "source": [
    "our_data= []\n",
    "for candle in data['candles']:\n",
    "    if candle['complete'] == False:\n",
    "        continue\n",
    "    new_dict = {}\n",
    "    new_dict['time'] = candle['time']\n",
    "    new_dict['volume'] = candle['volume']\n",
    "    price = get_price(new_dict,prices,ohlc,candle)\n",
    "    our_data.append(new_dict)"
   ]
  },
  {
   "cell_type": "code",
   "execution_count": 18,
   "metadata": {},
   "outputs": [
    {
     "data": {
      "text/plain": [
       "[{'time': '2021-05-05T04:00:00.000000000Z',\n",
       "  'volume': 718,\n",
       "  'mid_o': '1.20241',\n",
       "  'mid_h': '1.20256',\n",
       "  'mid_l': '1.20220',\n",
       "  'mid_c': '1.20225',\n",
       "  'bid_o': '1.20234',\n",
       "  'bid_h': '1.20250',\n",
       "  'bid_l': '1.20214',\n",
       "  'bid_c': '1.20218',\n",
       "  'ask_o': '1.20248',\n",
       "  'ask_h': '1.20263',\n",
       "  'ask_l': '1.20227',\n",
       "  'ask_c': '1.20232'},\n",
       " {'time': '2021-05-05T05:00:00.000000000Z',\n",
       "  'volume': 966,\n",
       "  'mid_o': '1.20224',\n",
       "  'mid_h': '1.20225',\n",
       "  'mid_l': '1.20120',\n",
       "  'mid_c': '1.20124',\n",
       "  'bid_o': '1.20218',\n",
       "  'bid_h': '1.20218',\n",
       "  'bid_l': '1.20113',\n",
       "  'bid_c': '1.20116',\n",
       "  'ask_o': '1.20230',\n",
       "  'ask_h': '1.20232',\n",
       "  'ask_l': '1.20127',\n",
       "  'ask_c': '1.20131'},\n",
       " {'time': '2021-05-05T06:00:00.000000000Z',\n",
       "  'volume': 4580,\n",
       "  'mid_o': '1.20122',\n",
       "  'mid_h': '1.20160',\n",
       "  'mid_l': '1.19932',\n",
       "  'mid_c': '1.19998',\n",
       "  'bid_o': '1.20114',\n",
       "  'bid_h': '1.20154',\n",
       "  'bid_l': '1.19925',\n",
       "  'bid_c': '1.19991',\n",
       "  'ask_o': '1.20129',\n",
       "  'ask_h': '1.20166',\n",
       "  'ask_l': '1.19938',\n",
       "  'ask_c': '1.20004'},\n",
       " {'time': '2021-05-05T07:00:00.000000000Z',\n",
       "  'volume': 5983,\n",
       "  'mid_o': '1.19998',\n",
       "  'mid_h': '1.20049',\n",
       "  'mid_l': '1.19860',\n",
       "  'mid_c': '1.19944',\n",
       "  'bid_o': '1.19992',\n",
       "  'bid_h': '1.20043',\n",
       "  'bid_l': '1.19853',\n",
       "  'bid_c': '1.19938',\n",
       "  'ask_o': '1.20005',\n",
       "  'ask_h': '1.20055',\n",
       "  'ask_l': '1.19867',\n",
       "  'ask_c': '1.19950'},\n",
       " {'time': '2021-05-05T08:00:00.000000000Z',\n",
       "  'volume': 4114,\n",
       "  'mid_o': '1.19946',\n",
       "  'mid_h': '1.19970',\n",
       "  'mid_l': '1.19871',\n",
       "  'mid_c': '1.19968',\n",
       "  'bid_o': '1.19940',\n",
       "  'bid_h': '1.19964',\n",
       "  'bid_l': '1.19864',\n",
       "  'bid_c': '1.19961',\n",
       "  'ask_o': '1.19951',\n",
       "  'ask_h': '1.19976',\n",
       "  'ask_l': '1.19878',\n",
       "  'ask_c': '1.19974'},\n",
       " {'time': '2021-05-05T09:00:00.000000000Z',\n",
       "  'volume': 2706,\n",
       "  'mid_o': '1.19966',\n",
       "  'mid_h': '1.20044',\n",
       "  'mid_l': '1.19932',\n",
       "  'mid_c': '1.20038',\n",
       "  'bid_o': '1.19959',\n",
       "  'bid_h': '1.20038',\n",
       "  'bid_l': '1.19925',\n",
       "  'bid_c': '1.20031',\n",
       "  'ask_o': '1.19973',\n",
       "  'ask_h': '1.20050',\n",
       "  'ask_l': '1.19938',\n",
       "  'ask_c': '1.20044'},\n",
       " {'time': '2021-05-05T10:00:00.000000000Z',\n",
       "  'volume': 4370,\n",
       "  'mid_o': '1.20038',\n",
       "  'mid_h': '1.20200',\n",
       "  'mid_l': '1.20038',\n",
       "  'mid_c': '1.20162',\n",
       "  'bid_o': '1.20032',\n",
       "  'bid_h': '1.20194',\n",
       "  'bid_l': '1.20032',\n",
       "  'bid_c': '1.20155',\n",
       "  'ask_o': '1.20045',\n",
       "  'ask_h': '1.20205',\n",
       "  'ask_l': '1.20044',\n",
       "  'ask_c': '1.20168'},\n",
       " {'time': '2021-05-05T11:00:00.000000000Z',\n",
       "  'volume': 3576,\n",
       "  'mid_o': '1.20162',\n",
       "  'mid_h': '1.20188',\n",
       "  'mid_l': '1.20068',\n",
       "  'mid_c': '1.20094',\n",
       "  'bid_o': '1.20157',\n",
       "  'bid_h': '1.20181',\n",
       "  'bid_l': '1.20062',\n",
       "  'bid_c': '1.20087',\n",
       "  'ask_o': '1.20168',\n",
       "  'ask_h': '1.20194',\n",
       "  'ask_l': '1.20074',\n",
       "  'ask_c': '1.20100'},\n",
       " {'time': '2021-05-05T12:00:00.000000000Z',\n",
       "  'volume': 6472,\n",
       "  'mid_o': '1.20092',\n",
       "  'mid_h': '1.20116',\n",
       "  'mid_l': '1.19916',\n",
       "  'mid_c': '1.19970',\n",
       "  'bid_o': '1.20086',\n",
       "  'bid_h': '1.20110',\n",
       "  'bid_l': '1.19909',\n",
       "  'bid_c': '1.19964',\n",
       "  'ask_o': '1.20099',\n",
       "  'ask_h': '1.20123',\n",
       "  'ask_l': '1.19922',\n",
       "  'ask_c': '1.19976'}]"
      ]
     },
     "execution_count": 18,
     "metadata": {},
     "output_type": "execute_result"
    }
   ],
   "source": [
    "our_data"
   ]
  },
  {
   "cell_type": "code",
   "execution_count": 20,
   "metadata": {},
   "outputs": [],
   "source": [
    "candles_df = pd.DataFrame.from_dict(our_data)"
   ]
  },
  {
   "cell_type": "code",
   "execution_count": 21,
   "metadata": {},
   "outputs": [
    {
     "data": {
      "text/html": [
       "<div>\n",
       "<style scoped>\n",
       "    .dataframe tbody tr th:only-of-type {\n",
       "        vertical-align: middle;\n",
       "    }\n",
       "\n",
       "    .dataframe tbody tr th {\n",
       "        vertical-align: top;\n",
       "    }\n",
       "\n",
       "    .dataframe thead th {\n",
       "        text-align: right;\n",
       "    }\n",
       "</style>\n",
       "<table border=\"1\" class=\"dataframe\">\n",
       "  <thead>\n",
       "    <tr style=\"text-align: right;\">\n",
       "      <th></th>\n",
       "      <th>time</th>\n",
       "      <th>volume</th>\n",
       "      <th>mid_o</th>\n",
       "      <th>mid_h</th>\n",
       "      <th>mid_l</th>\n",
       "      <th>mid_c</th>\n",
       "      <th>bid_o</th>\n",
       "      <th>bid_h</th>\n",
       "      <th>bid_l</th>\n",
       "      <th>bid_c</th>\n",
       "      <th>ask_o</th>\n",
       "      <th>ask_h</th>\n",
       "      <th>ask_l</th>\n",
       "      <th>ask_c</th>\n",
       "    </tr>\n",
       "  </thead>\n",
       "  <tbody>\n",
       "    <tr>\n",
       "      <th>0</th>\n",
       "      <td>2021-05-05T04:00:00.000000000Z</td>\n",
       "      <td>718</td>\n",
       "      <td>1.20241</td>\n",
       "      <td>1.20256</td>\n",
       "      <td>1.20220</td>\n",
       "      <td>1.20225</td>\n",
       "      <td>1.20234</td>\n",
       "      <td>1.20250</td>\n",
       "      <td>1.20214</td>\n",
       "      <td>1.20218</td>\n",
       "      <td>1.20248</td>\n",
       "      <td>1.20263</td>\n",
       "      <td>1.20227</td>\n",
       "      <td>1.20232</td>\n",
       "    </tr>\n",
       "    <tr>\n",
       "      <th>1</th>\n",
       "      <td>2021-05-05T05:00:00.000000000Z</td>\n",
       "      <td>966</td>\n",
       "      <td>1.20224</td>\n",
       "      <td>1.20225</td>\n",
       "      <td>1.20120</td>\n",
       "      <td>1.20124</td>\n",
       "      <td>1.20218</td>\n",
       "      <td>1.20218</td>\n",
       "      <td>1.20113</td>\n",
       "      <td>1.20116</td>\n",
       "      <td>1.20230</td>\n",
       "      <td>1.20232</td>\n",
       "      <td>1.20127</td>\n",
       "      <td>1.20131</td>\n",
       "    </tr>\n",
       "    <tr>\n",
       "      <th>2</th>\n",
       "      <td>2021-05-05T06:00:00.000000000Z</td>\n",
       "      <td>4580</td>\n",
       "      <td>1.20122</td>\n",
       "      <td>1.20160</td>\n",
       "      <td>1.19932</td>\n",
       "      <td>1.19998</td>\n",
       "      <td>1.20114</td>\n",
       "      <td>1.20154</td>\n",
       "      <td>1.19925</td>\n",
       "      <td>1.19991</td>\n",
       "      <td>1.20129</td>\n",
       "      <td>1.20166</td>\n",
       "      <td>1.19938</td>\n",
       "      <td>1.20004</td>\n",
       "    </tr>\n",
       "    <tr>\n",
       "      <th>3</th>\n",
       "      <td>2021-05-05T07:00:00.000000000Z</td>\n",
       "      <td>5983</td>\n",
       "      <td>1.19998</td>\n",
       "      <td>1.20049</td>\n",
       "      <td>1.19860</td>\n",
       "      <td>1.19944</td>\n",
       "      <td>1.19992</td>\n",
       "      <td>1.20043</td>\n",
       "      <td>1.19853</td>\n",
       "      <td>1.19938</td>\n",
       "      <td>1.20005</td>\n",
       "      <td>1.20055</td>\n",
       "      <td>1.19867</td>\n",
       "      <td>1.19950</td>\n",
       "    </tr>\n",
       "    <tr>\n",
       "      <th>4</th>\n",
       "      <td>2021-05-05T08:00:00.000000000Z</td>\n",
       "      <td>4114</td>\n",
       "      <td>1.19946</td>\n",
       "      <td>1.19970</td>\n",
       "      <td>1.19871</td>\n",
       "      <td>1.19968</td>\n",
       "      <td>1.19940</td>\n",
       "      <td>1.19964</td>\n",
       "      <td>1.19864</td>\n",
       "      <td>1.19961</td>\n",
       "      <td>1.19951</td>\n",
       "      <td>1.19976</td>\n",
       "      <td>1.19878</td>\n",
       "      <td>1.19974</td>\n",
       "    </tr>\n",
       "    <tr>\n",
       "      <th>5</th>\n",
       "      <td>2021-05-05T09:00:00.000000000Z</td>\n",
       "      <td>2706</td>\n",
       "      <td>1.19966</td>\n",
       "      <td>1.20044</td>\n",
       "      <td>1.19932</td>\n",
       "      <td>1.20038</td>\n",
       "      <td>1.19959</td>\n",
       "      <td>1.20038</td>\n",
       "      <td>1.19925</td>\n",
       "      <td>1.20031</td>\n",
       "      <td>1.19973</td>\n",
       "      <td>1.20050</td>\n",
       "      <td>1.19938</td>\n",
       "      <td>1.20044</td>\n",
       "    </tr>\n",
       "    <tr>\n",
       "      <th>6</th>\n",
       "      <td>2021-05-05T10:00:00.000000000Z</td>\n",
       "      <td>4370</td>\n",
       "      <td>1.20038</td>\n",
       "      <td>1.20200</td>\n",
       "      <td>1.20038</td>\n",
       "      <td>1.20162</td>\n",
       "      <td>1.20032</td>\n",
       "      <td>1.20194</td>\n",
       "      <td>1.20032</td>\n",
       "      <td>1.20155</td>\n",
       "      <td>1.20045</td>\n",
       "      <td>1.20205</td>\n",
       "      <td>1.20044</td>\n",
       "      <td>1.20168</td>\n",
       "    </tr>\n",
       "    <tr>\n",
       "      <th>7</th>\n",
       "      <td>2021-05-05T11:00:00.000000000Z</td>\n",
       "      <td>3576</td>\n",
       "      <td>1.20162</td>\n",
       "      <td>1.20188</td>\n",
       "      <td>1.20068</td>\n",
       "      <td>1.20094</td>\n",
       "      <td>1.20157</td>\n",
       "      <td>1.20181</td>\n",
       "      <td>1.20062</td>\n",
       "      <td>1.20087</td>\n",
       "      <td>1.20168</td>\n",
       "      <td>1.20194</td>\n",
       "      <td>1.20074</td>\n",
       "      <td>1.20100</td>\n",
       "    </tr>\n",
       "    <tr>\n",
       "      <th>8</th>\n",
       "      <td>2021-05-05T12:00:00.000000000Z</td>\n",
       "      <td>6472</td>\n",
       "      <td>1.20092</td>\n",
       "      <td>1.20116</td>\n",
       "      <td>1.19916</td>\n",
       "      <td>1.19970</td>\n",
       "      <td>1.20086</td>\n",
       "      <td>1.20110</td>\n",
       "      <td>1.19909</td>\n",
       "      <td>1.19964</td>\n",
       "      <td>1.20099</td>\n",
       "      <td>1.20123</td>\n",
       "      <td>1.19922</td>\n",
       "      <td>1.19976</td>\n",
       "    </tr>\n",
       "  </tbody>\n",
       "</table>\n",
       "</div>"
      ],
      "text/plain": [
       "                             time  volume    mid_o    mid_h    mid_l    mid_c  \\\n",
       "0  2021-05-05T04:00:00.000000000Z     718  1.20241  1.20256  1.20220  1.20225   \n",
       "1  2021-05-05T05:00:00.000000000Z     966  1.20224  1.20225  1.20120  1.20124   \n",
       "2  2021-05-05T06:00:00.000000000Z    4580  1.20122  1.20160  1.19932  1.19998   \n",
       "3  2021-05-05T07:00:00.000000000Z    5983  1.19998  1.20049  1.19860  1.19944   \n",
       "4  2021-05-05T08:00:00.000000000Z    4114  1.19946  1.19970  1.19871  1.19968   \n",
       "5  2021-05-05T09:00:00.000000000Z    2706  1.19966  1.20044  1.19932  1.20038   \n",
       "6  2021-05-05T10:00:00.000000000Z    4370  1.20038  1.20200  1.20038  1.20162   \n",
       "7  2021-05-05T11:00:00.000000000Z    3576  1.20162  1.20188  1.20068  1.20094   \n",
       "8  2021-05-05T12:00:00.000000000Z    6472  1.20092  1.20116  1.19916  1.19970   \n",
       "\n",
       "     bid_o    bid_h    bid_l    bid_c    ask_o    ask_h    ask_l    ask_c  \n",
       "0  1.20234  1.20250  1.20214  1.20218  1.20248  1.20263  1.20227  1.20232  \n",
       "1  1.20218  1.20218  1.20113  1.20116  1.20230  1.20232  1.20127  1.20131  \n",
       "2  1.20114  1.20154  1.19925  1.19991  1.20129  1.20166  1.19938  1.20004  \n",
       "3  1.19992  1.20043  1.19853  1.19938  1.20005  1.20055  1.19867  1.19950  \n",
       "4  1.19940  1.19964  1.19864  1.19961  1.19951  1.19976  1.19878  1.19974  \n",
       "5  1.19959  1.20038  1.19925  1.20031  1.19973  1.20050  1.19938  1.20044  \n",
       "6  1.20032  1.20194  1.20032  1.20155  1.20045  1.20205  1.20044  1.20168  \n",
       "7  1.20157  1.20181  1.20062  1.20087  1.20168  1.20194  1.20074  1.20100  \n",
       "8  1.20086  1.20110  1.19909  1.19964  1.20099  1.20123  1.19922  1.19976  "
      ]
     },
     "execution_count": 21,
     "metadata": {},
     "output_type": "execute_result"
    }
   ],
   "source": [
    "candles_df"
   ]
  },
  {
   "cell_type": "code",
   "execution_count": 22,
   "metadata": {},
   "outputs": [],
   "source": [
    "candles_df.to_pickle(\"EUR_USD_H1.pkl\")"
   ]
  },
  {
   "cell_type": "code",
   "execution_count": null,
   "metadata": {},
   "outputs": [],
   "source": []
  }
 ],
 "metadata": {
  "kernelspec": {
   "display_name": "Python 3",
   "language": "python",
   "name": "python3"
  },
  "language_info": {
   "codemirror_mode": {
    "name": "ipython",
    "version": 3
   },
   "file_extension": ".py",
   "mimetype": "text/x-python",
   "name": "python",
   "nbconvert_exporter": "python",
   "pygments_lexer": "ipython3",
   "version": "3.8.5"
  }
 },
 "nbformat": 4,
 "nbformat_minor": 4
}
