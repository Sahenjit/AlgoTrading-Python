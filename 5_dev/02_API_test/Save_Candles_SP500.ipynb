{
 "cells": [
  {
   "cell_type": "code",
   "execution_count": 3,
   "metadata": {},
   "outputs": [],
   "source": [
    "import requests\n",
    "import defs\n",
    "import pandas as pd\n",
    "import pickle\n",
    "#from tabulate import tabulate"
   ]
  },
  {
   "cell_type": "code",
   "execution_count": 4,
   "metadata": {},
   "outputs": [],
   "source": [
    "session = requests.Session()"
   ]
  },
  {
   "cell_type": "code",
   "execution_count": 5,
   "metadata": {},
   "outputs": [],
   "source": [
    "Index = ['SPX500_USD'] #The API name for retreiving S & P 500 index data from the Oanda website."
   ]
  },
  {
   "cell_type": "code",
   "execution_count": 6,
   "metadata": {},
   "outputs": [],
   "source": [
    "def fetch_candles(Index_name, count, granularity): #Function returns the data from the Oanda website based on Index type\n",
    "    url = f\"{defs.OANDA_URL}/instruments/{Index_name}/candles\"\n",
    "    params = dict(\n",
    "        count = count,\n",
    "        granularity = granularity,\n",
    "        price = \"MBA\"\n",
    "    )\n",
    "    response = session.get(url, params = params, headers = defs.SECURE_HEADER)\n",
    "    return response.status_code, response.json()"
   ]
  },
  {
   "cell_type": "code",
   "execution_count": 7,
   "metadata": {},
   "outputs": [],
   "source": [
    "def get_price(dictionary,prices,ohlc,candle): #Function returns the dictionary for candles for mid, ask and bid prices.\n",
    "    for price in prices:\n",
    "        for oh in ohlc:\n",
    "            dictionary[f\"{price}_{oh}\"] = candle[price][oh]"
   ]
  },
  {
   "cell_type": "code",
   "execution_count": 8,
   "metadata": {},
   "outputs": [],
   "source": [
    "def get_candles_df(json_response):# Creates a dataframe for the candles data on a given Index type\n",
    "    \n",
    "    prices = ['mid', 'bid', 'ask']\n",
    "    ohlc = ['o','h','l','c']\n",
    "    \n",
    "    our_data= []\n",
    "    for candle in json_response['candles']:\n",
    "        if candle['complete'] == False:\n",
    "            continue\n",
    "        new_dict = {}\n",
    "        new_dict['time'] = candle['time']\n",
    "        new_dict['volume'] = candle['volume']\n",
    "        price = get_price(new_dict,prices,ohlc,candle)\n",
    "        our_data.append(new_dict)\n",
    "    return pd.DataFrame.from_dict(our_data)"
   ]
  },
  {
   "cell_type": "code",
   "execution_count": 9,
   "metadata": {},
   "outputs": [],
   "source": [
    "def save_file(candles_df, Index_type, granularity):#Saves Files to a pickle document\n",
    "    candles_df.to_pickle(f\"{Index_type}_{granularity}.pkl\")"
   ]
  },
  {
   "cell_type": "code",
   "execution_count": 10,
   "metadata": {},
   "outputs": [],
   "source": [
    "def create_data(Index_type, count, granularity):\n",
    "    code, json_data = fetch_candles(Index_type,count,granularity)\n",
    "    if code != 200:\n",
    "        print(pair,\"Error\")\n",
    "        return\n",
    "    df = get_candles_df(json_data)\n",
    "    print(df)\n",
    "    print(f\"{Index_type} loaded {df.shape[0]} candles from {df.time.min()} to {df.time.max()}\")\n",
    "    save_file(df,Index_type,granularity)"
   ]
  },
  {
   "cell_type": "code",
   "execution_count": 13,
   "metadata": {},
   "outputs": [
    {
     "name": "stdout",
     "output_type": "stream",
     "text": [
      "                             time  volume   mid_o   mid_h   mid_l   mid_c  \\\n",
      "0  2021-05-02T21:00:00.000000000Z   59419  4192.4  4211.4  4190.2  4192.6   \n",
      "1  2021-05-03T21:00:00.000000000Z  112144  4192.8  4194.3  4129.6  4167.0   \n",
      "2  2021-05-04T21:00:00.000000000Z   60654  4167.8  4188.8  4162.0  4167.0   \n",
      "3  2021-05-05T21:00:00.000000000Z  103930  4168.1  4205.3  4148.6  4204.6   \n",
      "4  2021-05-06T21:00:00.000000000Z   73910  4205.2  4239.8  4199.4  4234.0   \n",
      "5  2021-05-09T21:00:00.000000000Z   85520  4234.5  4245.4  4179.9  4183.4   \n",
      "6  2021-05-10T21:00:00.000000000Z  192491  4186.4  4192.8  4111.4  4147.6   \n",
      "7  2021-05-11T21:00:00.000000000Z  223432  4147.5  4157.3  4058.0  4058.7   \n",
      "8  2021-05-12T21:00:00.000000000Z  213659  4061.2  4132.8  4035.6  4117.0   \n",
      "9  2021-05-13T21:00:00.000000000Z   76524  4116.0  4184.0  4111.2  4179.0   \n",
      "\n",
      "    bid_o   bid_h   bid_l   bid_c   ask_o   ask_h   ask_l   ask_c  \n",
      "0  4192.1  4211.2  4190.0  4192.4  4192.7  4211.5  4190.3  4192.8  \n",
      "1  4192.6  4194.1  4129.4  4166.8  4193.0  4194.6  4129.8  4167.2  \n",
      "2  4167.6  4188.6  4161.9  4166.8  4168.0  4189.0  4162.2  4167.2  \n",
      "3  4167.9  4205.1  4148.4  4204.4  4168.3  4205.6  4148.9  4204.8  \n",
      "4  4205.0  4239.6  4199.1  4233.8  4205.4  4239.9  4199.7  4234.2  \n",
      "5  4234.2  4245.2  4179.6  4183.2  4234.8  4245.6  4180.2  4183.6  \n",
      "6  4186.1  4192.6  4111.1  4147.4  4186.7  4193.0  4111.6  4147.8  \n",
      "7  4147.3  4157.1  4057.8  4058.5  4147.7  4157.5  4058.2  4058.9  \n",
      "8  4060.9  4132.7  4035.3  4116.8  4061.5  4133.0  4035.8  4117.2  \n",
      "9  4115.8  4183.7  4111.0  4178.8  4116.2  4184.2  4111.4  4179.2  \n",
      "SPX500_USD loaded 10 candles from 2021-05-02T21:00:00.000000000Z to 2021-05-13T21:00:00.000000000Z\n"
     ]
    }
   ],
   "source": [
    "try:\n",
    "    create_data(Index[0],10,\"D\")\n",
    "except:\n",
    "    print(\"Caught it!\")"
   ]
  },
  {
   "cell_type": "code",
   "execution_count": 12,
   "metadata": {},
   "outputs": [
    {
     "ename": "ValueError",
     "evalue": "unsupported pickle protocol: 5",
     "output_type": "error",
     "traceback": [
      "\u001b[1;31m---------------------------------------------------------------------------\u001b[0m",
      "\u001b[1;31mValueError\u001b[0m                                Traceback (most recent call last)",
      "\u001b[1;32m<ipython-input-12-fbe25c4dec6d>\u001b[0m in \u001b[0;36m<module>\u001b[1;34m\u001b[0m\n\u001b[0;32m      1\u001b[0m \u001b[1;32mwith\u001b[0m \u001b[0mopen\u001b[0m\u001b[1;33m(\u001b[0m\u001b[1;34m\"SPX500_USD_H1.pkl\"\u001b[0m\u001b[1;33m,\u001b[0m \u001b[1;34m\"rb\"\u001b[0m\u001b[1;33m)\u001b[0m \u001b[1;32mas\u001b[0m \u001b[0mf\u001b[0m\u001b[1;33m:\u001b[0m\u001b[1;33m\u001b[0m\u001b[1;33m\u001b[0m\u001b[0m\n\u001b[1;32m----> 2\u001b[1;33m     \u001b[0mobject\u001b[0m \u001b[1;33m=\u001b[0m \u001b[0mpickle\u001b[0m\u001b[1;33m.\u001b[0m\u001b[0mload\u001b[0m\u001b[1;33m(\u001b[0m\u001b[0mf\u001b[0m\u001b[1;33m)\u001b[0m\u001b[1;33m\u001b[0m\u001b[1;33m\u001b[0m\u001b[0m\n\u001b[0m\u001b[0;32m      3\u001b[0m \u001b[1;33m\u001b[0m\u001b[0m\n\u001b[0;32m      4\u001b[0m \u001b[0mdf\u001b[0m \u001b[1;33m=\u001b[0m \u001b[0mpd\u001b[0m\u001b[1;33m.\u001b[0m\u001b[0mDataFrame\u001b[0m\u001b[1;33m(\u001b[0m\u001b[0mobject\u001b[0m\u001b[1;33m)\u001b[0m\u001b[1;33m\u001b[0m\u001b[1;33m\u001b[0m\u001b[0m\n\u001b[0;32m      5\u001b[0m \u001b[0mdf\u001b[0m\u001b[1;33m.\u001b[0m\u001b[0mto_csv\u001b[0m\u001b[1;33m(\u001b[0m\u001b[1;34mr'SPX500_Data.csv'\u001b[0m\u001b[1;33m)\u001b[0m\u001b[1;33m\u001b[0m\u001b[1;33m\u001b[0m\u001b[0m\n",
      "\u001b[1;31mValueError\u001b[0m: unsupported pickle protocol: 5"
     ]
    }
   ],
   "source": [
    "with open(\"SPX500_USD_H1.pkl\", \"rb\") as f:\n",
    "    object = pickle.load(f)\n",
    "    \n",
    "df = pd.DataFrame(object)\n",
    "df.to_csv(r'SPX500_Data.csv')"
   ]
  },
  {
   "cell_type": "code",
   "execution_count": null,
   "metadata": {},
   "outputs": [],
   "source": []
  }
 ],
 "metadata": {
  "kernelspec": {
   "display_name": "Python 3",
   "language": "python",
   "name": "python3"
  },
  "language_info": {
   "codemirror_mode": {
    "name": "ipython",
    "version": 3
   },
   "file_extension": ".py",
   "mimetype": "text/x-python",
   "name": "python",
   "nbconvert_exporter": "python",
   "pygments_lexer": "ipython3",
   "version": "3.7.7"
  }
 },
 "nbformat": 4,
 "nbformat_minor": 4
}
