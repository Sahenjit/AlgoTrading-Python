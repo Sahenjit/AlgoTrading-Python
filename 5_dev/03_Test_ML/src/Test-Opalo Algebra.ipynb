{
 "cells": [
  {
   "cell_type": "markdown",
   "metadata": {},
   "source": [
    "# Prueba: Ópalo Quant Capital\n",
    "\n",
    "## 3 Algebra Lineal"
   ]
  },
  {
   "cell_type": "code",
   "execution_count": 3,
   "metadata": {},
   "outputs": [],
   "source": [
    "###################################################################################################\n",
    "# Project    : Prueba Opalo Quant Capital\n",
    "# Lenguaje   : Python / jupyter\n",
    "# Description: Seccion de algebra\n",
    "#\n",
    "# References : \n",
    "# Git Control:\n",
    "# Author - Year:Camilo Blanco Vargas - 2020\n",
    "# Mail         :mail@camiloblanco.com \n",
    "###################################################################################################"
   ]
  },
  {
   "cell_type": "code",
   "execution_count": 4,
   "metadata": {},
   "outputs": [],
   "source": [
    "# Import the necesary libraries\n",
    "import math\n",
    "import numpy\n",
    "import numpy as np\n",
    "import pandas as pd\n",
    "import matplotlib.pyplot as plt\n",
    "import seaborn as sns"
   ]
  },
  {
   "cell_type": "code",
   "execution_count": 5,
   "metadata": {},
   "outputs": [
    {
     "name": "stdout",
     "output_type": "stream",
     "text": [
      "[1. 2.]\n"
     ]
    }
   ],
   "source": [
    "# resolver el sistema de ecuaciones lineales\n",
    "a = np.array([[1,3],[5,-1]])\n",
    "b = np.array([7,3])\n",
    "\n",
    "# Use solve instead of X=inv(a)*b\n",
    "X= np.linalg.solve(a,b)\n",
    "print(X)"
   ]
  },
  {
   "cell_type": "code",
   "execution_count": 6,
   "metadata": {},
   "outputs": [
    {
     "name": "stdout",
     "output_type": "stream",
     "text": [
      "7.0710678118654755\n"
     ]
    }
   ],
   "source": [
    "#hallar la magnitud del vector\n",
    "vector_x = np.array([4,3,5])\n",
    "\n",
    "#Get the norm\n",
    "magnitud = np.linalg.norm(vector_x )\n",
    "print(magnitud )"
   ]
  },
  {
   "cell_type": "code",
   "execution_count": 7,
   "metadata": {},
   "outputs": [
    {
     "name": "stdout",
     "output_type": "stream",
     "text": [
      "Ejemplo 1 (R3xR3):\n",
      "Producto punto:  68\n",
      "Producto Cruz:  [-12   1   9]\n",
      "\n",
      "Ejemplo 2 (R2xR3):\n",
      " Los vectores deben pertenecer al mismo espacio vectorial. \n",
      " Ningun producto aplica para el ejemplo.\n"
     ]
    }
   ],
   "source": [
    "#hallar el producto punto y/o  producto cruz para cada ejemplo donde aplique\n",
    "\n",
    "#ejemplo 1\n",
    "vector_1 = np.array([4,3,5])\n",
    "vector_2 = np.array([5,6,6])\n",
    "\n",
    "#ejemplo 2\n",
    "vector_3 = np.array([4,3])\n",
    "vector_4 = np.array([5,6,6])\n",
    "\n",
    "\n",
    "#ejemplo 1: Using np.dot and np.cross\n",
    "print(\"Ejemplo 1 (R3xR3):\")\n",
    "punto1=np.dot(vector_1,vector_2)\n",
    "print(\"Producto punto: \", punto1)\n",
    "cruz1=np.cross(vector_1,vector_2)\n",
    "print(\"Producto Cruz: \", cruz1)\n",
    "\n",
    "#ejemplo 2\n",
    "print(\"\\nEjemplo 2 (R2xR3):\\n Los vectores deben pertenecer al mismo espacio vectorial. \\n Ningun producto aplica para el ejemplo.\")\n"
   ]
  }
 ],
 "metadata": {
  "kernelspec": {
   "display_name": "Python 3",
   "language": "python",
   "name": "python3"
  },
  "language_info": {
   "codemirror_mode": {
    "name": "ipython",
    "version": 3
   },
   "file_extension": ".py",
   "mimetype": "text/x-python",
   "name": "python",
   "nbconvert_exporter": "python",
   "pygments_lexer": "ipython3",
   "version": "3.7.7"
  }
 },
 "nbformat": 4,
 "nbformat_minor": 4
}
