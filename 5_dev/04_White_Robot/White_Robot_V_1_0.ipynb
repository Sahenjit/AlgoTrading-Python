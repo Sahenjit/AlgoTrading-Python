{
 "cells": [
  {
   "cell_type": "code",
   "execution_count": 1,
   "metadata": {},
   "outputs": [],
   "source": [
    "import pandas as pd\n",
    "import requests\n",
    "import numpy as np\n",
    "import Oanda_Manager as om"
   ]
  },
  {
   "cell_type": "code",
   "execution_count": 2,
   "metadata": {},
   "outputs": [
    {
     "name": "stdout",
     "output_type": "stream",
     "text": [
      "(200, {'accounts': [{'id': '101-004-19105515-001', 'tags': []}]})\n"
     ]
    }
   ],
   "source": [
    "account = pd.read_csv('Account_details.csv')\n",
    "API_KEY=account.iloc[0, 0]\n",
    "Account_ID=account.iloc[0, 1]\n",
    "Oanda_URL=account.iloc[0, 2]\n",
    "oandaAcc =  om.Oanda_Manager(API_KEY,Account_ID, Oanda_URL,{'Authorization': f'Bearer {API_KEY}'})\n",
    "print(oandaAcc.account_list())\n"
   ]
  },
  {
   "cell_type": "code",
   "execution_count": 3,
   "metadata": {},
   "outputs": [],
   "source": [
    "asset_name=\"SPX500_USD\"\n",
    "count=1000\n",
    "granularity=\"H4\"\n",
    "candle_data = oandaAcc.read_instrument_candles(asset_name, count, granularity)"
   ]
  },
  {
   "cell_type": "code",
   "execution_count": 4,
   "metadata": {},
   "outputs": [
    {
     "data": {
      "text/html": [
       "<div>\n",
       "<style scoped>\n",
       "    .dataframe tbody tr th:only-of-type {\n",
       "        vertical-align: middle;\n",
       "    }\n",
       "\n",
       "    .dataframe tbody tr th {\n",
       "        vertical-align: top;\n",
       "    }\n",
       "\n",
       "    .dataframe thead th {\n",
       "        text-align: right;\n",
       "    }\n",
       "</style>\n",
       "<table border=\"1\" class=\"dataframe\">\n",
       "  <thead>\n",
       "    <tr style=\"text-align: right;\">\n",
       "      <th></th>\n",
       "      <th>time</th>\n",
       "      <th>volume</th>\n",
       "      <th>mid_o</th>\n",
       "      <th>mid_h</th>\n",
       "      <th>mid_l</th>\n",
       "      <th>mid_c</th>\n",
       "      <th>bid_o</th>\n",
       "      <th>bid_h</th>\n",
       "      <th>bid_l</th>\n",
       "      <th>bid_c</th>\n",
       "      <th>ask_o</th>\n",
       "      <th>ask_h</th>\n",
       "      <th>ask_l</th>\n",
       "      <th>ask_c</th>\n",
       "    </tr>\n",
       "  </thead>\n",
       "  <tbody>\n",
       "    <tr>\n",
       "      <th>0</th>\n",
       "      <td>2020-09-21T13:00:00.000000000Z</td>\n",
       "      <td>72962</td>\n",
       "      <td>3271.4</td>\n",
       "      <td>3278.2</td>\n",
       "      <td>3230.2</td>\n",
       "      <td>3245.2</td>\n",
       "      <td>3271.1</td>\n",
       "      <td>3278.1</td>\n",
       "      <td>3230.0</td>\n",
       "      <td>3245.1</td>\n",
       "      <td>3271.7</td>\n",
       "      <td>3278.4</td>\n",
       "      <td>3230.3</td>\n",
       "      <td>3245.4</td>\n",
       "    </tr>\n",
       "    <tr>\n",
       "      <th>1</th>\n",
       "      <td>2020-09-21T17:00:00.000000000Z</td>\n",
       "      <td>35432</td>\n",
       "      <td>3245.6</td>\n",
       "      <td>3291.4</td>\n",
       "      <td>3234.2</td>\n",
       "      <td>3286.1</td>\n",
       "      <td>3245.4</td>\n",
       "      <td>3291.2</td>\n",
       "      <td>3234.0</td>\n",
       "      <td>3285.9</td>\n",
       "      <td>3245.7</td>\n",
       "      <td>3291.7</td>\n",
       "      <td>3234.3</td>\n",
       "      <td>3286.3</td>\n",
       "    </tr>\n",
       "    <tr>\n",
       "      <th>2</th>\n",
       "      <td>2020-09-21T21:00:00.000000000Z</td>\n",
       "      <td>7553</td>\n",
       "      <td>3284.9</td>\n",
       "      <td>3301.7</td>\n",
       "      <td>3282.0</td>\n",
       "      <td>3295.2</td>\n",
       "      <td>3284.7</td>\n",
       "      <td>3301.5</td>\n",
       "      <td>3281.7</td>\n",
       "      <td>3295.0</td>\n",
       "      <td>3285.1</td>\n",
       "      <td>3301.9</td>\n",
       "      <td>3282.2</td>\n",
       "      <td>3295.4</td>\n",
       "    </tr>\n",
       "    <tr>\n",
       "      <th>3</th>\n",
       "      <td>2020-09-22T01:00:00.000000000Z</td>\n",
       "      <td>14597</td>\n",
       "      <td>3295.2</td>\n",
       "      <td>3295.7</td>\n",
       "      <td>3277.0</td>\n",
       "      <td>3286.2</td>\n",
       "      <td>3294.9</td>\n",
       "      <td>3295.5</td>\n",
       "      <td>3276.8</td>\n",
       "      <td>3285.9</td>\n",
       "      <td>3295.5</td>\n",
       "      <td>3295.9</td>\n",
       "      <td>3277.2</td>\n",
       "      <td>3286.5</td>\n",
       "    </tr>\n",
       "    <tr>\n",
       "      <th>4</th>\n",
       "      <td>2020-09-22T05:00:00.000000000Z</td>\n",
       "      <td>21433</td>\n",
       "      <td>3286.2</td>\n",
       "      <td>3288.4</td>\n",
       "      <td>3268.9</td>\n",
       "      <td>3282.0</td>\n",
       "      <td>3286.0</td>\n",
       "      <td>3288.2</td>\n",
       "      <td>3268.7</td>\n",
       "      <td>3281.8</td>\n",
       "      <td>3286.4</td>\n",
       "      <td>3288.7</td>\n",
       "      <td>3269.1</td>\n",
       "      <td>3282.2</td>\n",
       "    </tr>\n",
       "  </tbody>\n",
       "</table>\n",
       "</div>"
      ],
      "text/plain": [
       "                             time  volume   mid_o   mid_h   mid_l   mid_c  \\\n",
       "0  2020-09-21T13:00:00.000000000Z   72962  3271.4  3278.2  3230.2  3245.2   \n",
       "1  2020-09-21T17:00:00.000000000Z   35432  3245.6  3291.4  3234.2  3286.1   \n",
       "2  2020-09-21T21:00:00.000000000Z    7553  3284.9  3301.7  3282.0  3295.2   \n",
       "3  2020-09-22T01:00:00.000000000Z   14597  3295.2  3295.7  3277.0  3286.2   \n",
       "4  2020-09-22T05:00:00.000000000Z   21433  3286.2  3288.4  3268.9  3282.0   \n",
       "\n",
       "    bid_o   bid_h   bid_l   bid_c   ask_o   ask_h   ask_l   ask_c  \n",
       "0  3271.1  3278.1  3230.0  3245.1  3271.7  3278.4  3230.3  3245.4  \n",
       "1  3245.4  3291.2  3234.0  3285.9  3245.7  3291.7  3234.3  3286.3  \n",
       "2  3284.7  3301.5  3281.7  3295.0  3285.1  3301.9  3282.2  3295.4  \n",
       "3  3294.9  3295.5  3276.8  3285.9  3295.5  3295.9  3277.2  3286.5  \n",
       "4  3286.0  3288.2  3268.7  3281.8  3286.4  3288.7  3269.1  3282.2  "
      ]
     },
     "execution_count": 4,
     "metadata": {},
     "output_type": "execute_result"
    }
   ],
   "source": [
    "candle_data.head()\n"
   ]
  },
  {
   "cell_type": "code",
   "execution_count": null,
   "metadata": {},
   "outputs": [],
   "source": []
  }
 ],
 "metadata": {
  "kernelspec": {
   "display_name": "Python 3",
   "language": "python",
   "name": "python3"
  },
  "language_info": {
   "codemirror_mode": {
    "name": "ipython",
    "version": 3
   },
   "file_extension": ".py",
   "mimetype": "text/x-python",
   "name": "python",
   "nbconvert_exporter": "python",
   "pygments_lexer": "ipython3",
   "version": "3.7.7"
  }
 },
 "nbformat": 4,
 "nbformat_minor": 4
}
