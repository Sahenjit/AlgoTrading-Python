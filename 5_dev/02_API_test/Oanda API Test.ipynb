{
 "cells": [
  {
   "cell_type": "markdown",
   "metadata": {},
   "source": [
    "Test OANDA's API"
   ]
  },
  {
   "cell_type": "code",
   "execution_count": 1,
   "metadata": {},
   "outputs": [],
   "source": [
    "API = \"api-fxtrade.oanda.com\"\n",
    "STREAM_API = \"stream-fxtrade.oanda.com\""
   ]
  },
  {
   "cell_type": "code",
   "execution_count": 2,
   "metadata": {},
   "outputs": [],
   "source": [
    "ACCOUNT_ID = \"001-004-6287233-001\"\n",
    "ACCESS_TOKEN = \"81cdedaecc7a84ce73b9c4636b16c29f-278400ce5b4bfab4d6eacc1c3071b72b\""
   ]
  },
  {
   "cell_type": "code",
   "execution_count": 3,
   "metadata": {},
   "outputs": [],
   "source": [
    "import requests\n",
    "import json\n",
    "import numpy as np\n",
    "import pandas as pd"
   ]
  },
  {
   "cell_type": "code",
   "execution_count": 4,
   "metadata": {},
   "outputs": [],
   "source": [
    "PRICING_PATH = f\"/v3/accounts/{ACCOUNT_ID}/pricing\""
   ]
  },
  {
   "cell_type": "code",
   "execution_count": 5,
   "metadata": {},
   "outputs": [],
   "source": [
    "query = {\"instruments\": \"SPX500_USD\"} \n",
    "headers = {\"Authorization\": \"Bearer \"+ ACCESS_TOKEN}"
   ]
  },
  {
   "cell_type": "code",
   "execution_count": 6,
   "metadata": {},
   "outputs": [],
   "source": [
    "response = requests.get(\"https://\"+API+PRICING_PATH, headers=headers, params=query)"
   ]
  },
  {
   "cell_type": "code",
   "execution_count": 7,
   "metadata": {},
   "outputs": [
    {
     "data": {
      "text/plain": [
       "{'time': '2021-05-06T09:42:41.421358096Z',\n",
       " 'prices': [{'type': 'PRICE',\n",
       "   'time': '2021-05-06T09:42:38.707758210Z',\n",
       "   'bids': [{'price': '4167.4', 'liquidity': 1000},\n",
       "    {'price': '4167.3', 'liquidity': 2000},\n",
       "    {'price': '4167.2', 'liquidity': 2000}],\n",
       "   'asks': [{'price': '4167.8', 'liquidity': 1000},\n",
       "    {'price': '4167.9', 'liquidity': 2000},\n",
       "    {'price': '4168.0', 'liquidity': 2000}],\n",
       "   'closeoutBid': '4167.2',\n",
       "   'closeoutAsk': '4168.0',\n",
       "   'status': 'tradeable',\n",
       "   'tradeable': True,\n",
       "   'unitsAvailable': {'default': {'long': '0', 'short': '0'},\n",
       "    'openOnly': {'long': '0', 'short': '0'},\n",
       "    'reduceFirst': {'long': '0', 'short': '0'},\n",
       "    'reduceOnly': {'long': '0', 'short': '0'}},\n",
       "   'quoteHomeConversionFactors': {'positiveUnits': '0.71848371',\n",
       "    'negativeUnits': '0.71856632'},\n",
       "   'instrument': 'SPX500_USD'}]}"
      ]
     },
     "execution_count": 7,
     "metadata": {},
     "output_type": "execute_result"
    }
   ],
   "source": [
    "response.json()"
   ]
  },
  {
   "cell_type": "code",
   "execution_count": 8,
   "metadata": {},
   "outputs": [
    {
     "name": "stdout",
     "output_type": "stream",
     "text": [
      "Hello World\n"
     ]
    }
   ],
   "source": [
    "print(\"Hello World\")"
   ]
  }
 ],
 "metadata": {
  "kernelspec": {
   "display_name": "Python 3",
   "language": "python",
   "name": "python3"
  },
  "language_info": {
   "codemirror_mode": {
    "name": "ipython",
    "version": 3
   },
   "file_extension": ".py",
   "mimetype": "text/x-python",
   "name": "python",
   "nbconvert_exporter": "python",
   "pygments_lexer": "ipython3",
   "version": "3.8.5"
  }
 },
 "nbformat": 4,
 "nbformat_minor": 4
}
