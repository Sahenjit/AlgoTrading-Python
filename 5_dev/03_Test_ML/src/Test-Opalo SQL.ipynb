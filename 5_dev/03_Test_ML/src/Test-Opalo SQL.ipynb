{
 "cells": [
  {
   "cell_type": "markdown",
   "metadata": {},
   "source": [
    "# Prueba: Ópalo Quant Capital\n",
    "\n",
    "## 1 SQL"
   ]
  },
  {
   "cell_type": "code",
   "execution_count": 1,
   "metadata": {},
   "outputs": [],
   "source": [
    "###################################################################################################\n",
    "# Project    : Prueba Opalo Quant Capital\n",
    "# Lenguaje   : Python / jupyter\n",
    "# Description: Seccion de SQL\n",
    "#\n",
    "# References : \n",
    "# Git Control:\n",
    "# Author - Year:Camilo Blanco Vargas - 2020\n",
    "# Mail         :mail@camiloblanco.com \n",
    "###################################################################################################"
   ]
  },
  {
   "cell_type": "code",
   "execution_count": 2,
   "metadata": {},
   "outputs": [],
   "source": [
    "# Import the necesary libraries\n",
    "import numpy as np\n",
    "import pandas as pd\n",
    "import matplotlib.pyplot as plt\n",
    "import sqlite3 as sql"
   ]
  },
  {
   "cell_type": "code",
   "execution_count": 3,
   "metadata": {},
   "outputs": [
    {
     "name": "stdout",
     "output_type": "stream",
     "text": [
      "Engine(sqlite:///indicadores.db)\n",
      "   id_indicador           nombre\n",
      "0             1      ipc_vigente\n",
      "1             2  dtf_nta_vigente\n",
      "2             3  ibr_nmv_vigente \n",
      "\n",
      "   id_historico_indicador  id_indicador                       fecha  valor\n",
      "0                   16688             1  2020-12-01 00:00:00.000000   1.75\n",
      "1                   16689             1  2020-12-02 00:00:00.000000   1.75\n",
      "2                   16690             1  2020-12-03 00:00:00.000000   1.75\n",
      "3                   16691             1  2020-12-04 00:00:00.000000   1.75\n",
      "4                   16692             1  2020-12-05 00:00:00.000000   1.75\n"
     ]
    }
   ],
   "source": [
    "# Previo al ejercicio se crea una SQlite (archivo indicadores.db).\n",
    "# Se crean las tablas de la DB y se alimenta con la data del archivo de excel ('prueba_opalo.xlsx').\n",
    "\n",
    "# Connecting to indicadores empty DB on SQLite\n",
    "from sqlalchemy import  create_engine\n",
    "engine = create_engine(\"sqlite:///indicadores.db\")\n",
    "conn=engine.connect() # connect to the database\n",
    "print(engine)\n",
    "\n",
    "# Create a table on the DataBase\n",
    "from sqlalchemy import Table, Column, Integer, Float, String, MetaData, String, ForeignKey,Text, DateTime, Boolean\n",
    "from datetime import datetime\n",
    "meta = MetaData()\n",
    "\n",
    "# Declare indicadores table\n",
    "indicadores = Table(\n",
    "    'indicadores', meta, \n",
    "    Column('id_indicador', Integer, primary_key = True), \n",
    "    Column('nombre', String(50)), \n",
    ")\n",
    "\n",
    "# Declare historico_indicadores table\n",
    "historico_indicadores = Table(\n",
    "    'historico_indicadores', meta, \n",
    "    Column('id_historico_indicador', Integer, primary_key = True), \n",
    "    Column('id_indicador', Integer, ForeignKey('indicadores.id_indicador')),\n",
    "    Column('fecha', DateTime()),\n",
    "    Column('valor', Float), \n",
    ")\n",
    "# Create the tables on the DB\n",
    "meta.create_all(engine)\n",
    "\n",
    "# Read the db tables from the excel file to Pandas dataframes and clean them\n",
    "myFile = 'prueba_opalo.xlsx'\n",
    "tabla_indicadores = pd.read_excel(myFile, \"tabla_indicadores\")\n",
    "tabla_historico_indicadores= pd.read_excel(myFile, \"tabla_historico_indicadores\")\n",
    "tabla_historico_indicadores.drop(tabla_historico_indicadores.columns[0], axis=1,inplace = True) #Cleanning\n",
    "\n",
    "# Insert records from the to Pandas dataframes to the DB\n",
    "tabla_indicadores.to_sql('indicadores', conn, if_exists=\"append\", index = False)\n",
    "tabla_historico_indicadores.to_sql('historico_indicadores', conn, if_exists=\"append\", index = False)\n",
    "\n",
    "#Read from the SQL tables in Pandas datasframes and print\n",
    "df_ind  = pd.read_sql('SELECT * FROM indicadores', con=engine)\n",
    "print(df_ind .head(), \"\\n\")\n",
    "df_hist = pd.read_sql('SELECT * FROM historico_indicadores', con=engine)\n",
    "print(df_hist.head())"
   ]
  },
  {
   "cell_type": "code",
   "execution_count": null,
   "metadata": {},
   "outputs": [],
   "source": [
    "# 1 sql\n",
    "#### en un un pseudo codigo de python y  SQL: \n",
    "#### del excel adjunto importe los datos de la hoja \"datos indicadores\"\n",
    "#### y actualice en postgres la \"tabla_historico_indicador\" lo anterior  teniendo en cuenta la \"tabla_indicador\"\n",
    "#### ver foto adjunta en el mail\n",
    "#### el nombre de la base de datos, la ruta y el usuario son cualquiera\n"
   ]
  },
  {
   "cell_type": "code",
   "execution_count": 4,
   "metadata": {},
   "outputs": [
    {
     "name": "stdout",
     "output_type": "stream",
     "text": [
      "       fecha  valor  id_indicador\n",
      "0 2020-12-06   1.94             2\n",
      "1 2020-12-07   1.93             2\n",
      "2 2020-12-08   1.93             2\n",
      "3 2020-12-09   1.93             2\n",
      "4 2020-12-10   1.93             2\n",
      "        fecha  valor  id_indicador\n",
      "25 2020-12-11   1.49             1\n",
      "26 2020-12-12   1.49             1\n",
      "27 2020-12-13   1.49             1\n",
      "28 2020-12-14   1.49             1\n",
      "29 2020-12-15   1.49             1\n"
     ]
    }
   ],
   "source": [
    "# Importar los datos de la hoja \"daros indicadores\" y prepararlos para actulizar la tabla requerida\n",
    "df_datos = pd.read_excel(myFile, \"datos indicadores\", skiprows=2)\n",
    "df_datos=df_datos.melt(id_vars=['fecha'], value_vars=['dtf_nta_vigente', 'ibr_nmv_vigente','ipc_vigente'])\n",
    "df_datos.columns = ['fecha','nombre','valor']\n",
    "#teniendo en cuenta la \"tabla_indicador\"...(df_ind)\n",
    "df_datos=pd.merge(df_datos,df_ind, on='nombre') #Join...\n",
    "df_datos.drop(df_datos.columns[1], axis=1,inplace = True) #Cleanning\n",
    "print(df_datos.head())\n",
    "print(df_datos.tail())"
   ]
  },
  {
   "cell_type": "code",
   "execution_count": 5,
   "metadata": {},
   "outputs": [
    {
     "name": "stdout",
     "output_type": "stream",
     "text": [
      "    id_historico_indicador  id_indicador                       fecha  valor\n",
      "0                    16693             1  2020-12-06 00:00:00.000000  1.490\n",
      "1                    16694             1  2020-12-07 00:00:00.000000  1.490\n",
      "2                    16695             1  2020-12-08 00:00:00.000000  1.490\n",
      "3                    16696             1  2020-12-09 00:00:00.000000  1.490\n",
      "4                    16697             1  2020-12-10 00:00:00.000000  1.490\n",
      "5                    16698             1  2020-12-11 00:00:00.000000  1.490\n",
      "6                    16699             1  2020-12-12 00:00:00.000000  1.490\n",
      "7                    16700             1  2020-12-13 00:00:00.000000  1.490\n",
      "8                    16701             1  2020-12-14 00:00:00.000000  1.490\n",
      "9                    16702             1  2020-12-15 00:00:00.000000  1.490\n",
      "10                   17023             3  2020-12-06 00:00:00.000000  1.717\n",
      "11                   17024             3  2020-12-07 00:00:00.000000  1.718\n",
      "12                   17025             3  2020-12-08 00:00:00.000000  1.718\n",
      "13                   17026             3  2020-12-09 00:00:00.000000  1.712\n",
      "14                   17027             3  2020-12-10 00:00:00.000000  1.713\n",
      "15                   17028             3  2020-12-11 00:00:00.000000  1.714\n",
      "16                   17029             3  2020-12-12 00:00:00.000000  1.714\n",
      "17                   17030             3  2020-12-13 00:00:00.000000  1.714\n",
      "18                   17031             3  2020-12-14 00:00:00.000000  1.712\n",
      "19                   17032             3  2020-12-15 00:00:00.000000  1.714\n",
      "20                   17379             2  2020-12-06 00:00:00.000000  1.940\n",
      "21                   17380             2  2020-12-07 00:00:00.000000  1.930\n",
      "22                   17381             2  2020-12-08 00:00:00.000000  1.930\n",
      "23                   17382             2  2020-12-09 00:00:00.000000  1.930\n",
      "24                   17383             2  2020-12-10 00:00:00.000000  1.930\n",
      "25                   17384             2  2020-12-11 00:00:00.000000  1.930\n",
      "26                   17385             2  2020-12-12 00:00:00.000000  1.930\n",
      "27                   17386             2  2020-12-13 00:00:00.000000  1.930\n",
      "28                   17387             2  2020-12-14 00:00:00.000000  1.920\n",
      "29                   17388             2  2020-12-15 00:00:00.000000  1.920\n"
     ]
    }
   ],
   "source": [
    "# Actualice la \"tabla_historico_indicadores\"\n",
    "for index, row in df_datos.iterrows():  \n",
    "    id_ind=int(row['id_indicador'])\n",
    "    date=str(row['fecha'])+'.000000'\n",
    "    val=float(row['valor'])\n",
    "    conn.execute('UPDATE historico_indicadores SET valor = :x WHERE id_indicador=:y AND fecha=:z',\n",
    "             x=val, y = id_ind, z=date)\n",
    "    \n",
    "# Query desde la tabla actualizada...\n",
    "df_hist = pd.read_sql('SELECT * FROM historico_indicadores WHERE fecha BETWEEN \"2020-12-06\" AND \"2020-12-16\"', con=engine)\n",
    "print(df_hist.head(30))"
   ]
  },
  {
   "cell_type": "markdown",
   "metadata": {},
   "source": [
    "# 2 sql\n",
    "#### en un un pseudo codigo de python y  SQL: \n",
    "####  inserte en postgres en la \"tabla_historico_indicador\" los siguientes valores \n",
    "\n",
    "#### fecha = 01-01-2021\n",
    "#### ipc_vigente = 1.49\n",
    "#### ibr_nmv_vigente = 1.714\n",
    "#### dtf_nta_vigente = 11.92\n",
    "#### el nombre de la base de datos, la ruta y el usuario son cualquiera"
   ]
  },
  {
   "cell_type": "code",
   "execution_count": 6,
   "metadata": {},
   "outputs": [
    {
     "name": "stdout",
     "output_type": "stream",
     "text": [
      "   id_historico_indicador  id_indicador                       fecha   valor\n",
      "0                   17405             1  01-01-2021 00:00:00.000000   1.490\n",
      "1                   17406             2  01-01-2021 00:00:00.000000  11.920\n",
      "2                   17407             3  01-01-2021 00:00:00.000000   1.714\n"
     ]
    }
   ],
   "source": [
    "# Insertar los nuevos datos en la base de datos:\n",
    "conn.execute('INSERT INTO historico_indicadores(id_indicador,fecha,valor)  VALUES(1,\"01-01-2021 00:00:00.000000\",1.49)')\n",
    "conn.execute('INSERT INTO historico_indicadores(id_indicador,fecha,valor)  VALUES(2,\"01-01-2021 00:00:00.000000\",11.92)')\n",
    "conn.execute('INSERT INTO historico_indicadores(id_indicador,fecha,valor)  VALUES(3,\"01-01-2021 00:00:00.000000\",1.714)')\n",
    "# Query desde la tabla actualizada...\n",
    "df_hist = pd.read_sql('SELECT * FROM historico_indicadores WHERE fecha = \"01-01-2021 00:00:00.000000\"', con=engine)\n",
    "print(df_hist.head())"
   ]
  },
  {
   "cell_type": "markdown",
   "metadata": {},
   "source": [
    "# 3 sql\n",
    "#### en un un pseudo codigo de python y  SQL: \n",
    "####  elimine  en postgres en  la \"tabla_historico_indicador\" los datos del 30 de de noviembre del 2020\n",
    "#### el nombre de la base de datos, la ruta y el usuario son cualquiera"
   ]
  },
  {
   "cell_type": "code",
   "execution_count": null,
   "metadata": {},
   "outputs": [],
   "source": [
    "# En la tabla suministrada los datos inician en diciembre de 2020... sin embargo el query seria:\n",
    "conn.execute('DELETE FROM historico_indicadores WHERE fecha = \"30-11-2020 00:00:00.000000\"')"
   ]
  }
 ],
 "metadata": {
  "kernelspec": {
   "display_name": "Python 3",
   "language": "python",
   "name": "python3"
  },
  "language_info": {
   "codemirror_mode": {
    "name": "ipython",
    "version": 3
   },
   "file_extension": ".py",
   "mimetype": "text/x-python",
   "name": "python",
   "nbconvert_exporter": "python",
   "pygments_lexer": "ipython3",
   "version": "3.7.7"
  }
 },
 "nbformat": 4,
 "nbformat_minor": 4
}
