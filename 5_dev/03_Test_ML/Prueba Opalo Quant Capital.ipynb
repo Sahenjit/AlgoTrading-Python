{
 "cells": [
  {
   "cell_type": "markdown",
   "metadata": {},
   "source": [
    "# Prueba: Ópalo Quant Capital"
   ]
  },
  {
   "cell_type": "code",
   "execution_count": 1,
   "metadata": {},
   "outputs": [],
   "source": [
    "import pandas as pd\n",
    "import numpy as np\n",
    "\n",
    "from datetime import date, datetime, timedelta , time\n",
    "from dateutil.relativedelta import relativedelta \n",
    "\n",
    "\n",
    "from sqlalchemy.sql import text\n",
    "\n",
    "from warnings import filterwarnings\n",
    "filterwarnings(\"ignore\")\n",
    "\n",
    "\n"
   ]
  },
  {
   "cell_type": "markdown",
   "metadata": {},
   "source": [
    "# 1 sql\n",
    "#### en un un pseudo codigo de python y  SQL: \n",
    "#### del excel adjunto importe los datos de la hoja \"datos indicadores\"\n",
    "#### y actualice en postgres la \"tabla_historico_indicador\" lo anterior  teniendo en cuenta la \"tabla_indicador\"\n",
    "#### ver foto adjunta en el mail\n",
    "#### el nombre de la base de datos, la ruta y el usuario son cualquiera"
   ]
  },
  {
   "cell_type": "code",
   "execution_count": null,
   "metadata": {},
   "outputs": [],
   "source": []
  },
  {
   "cell_type": "markdown",
   "metadata": {},
   "source": [
    "# 1.2 sql\n",
    "#### en un un pseudo codigo de python y  SQL: \n",
    "####  inserte en postgres en la \"tabla_historico_indicador\" los siguientes valores \n",
    "\n",
    "#### fecha = 01-01-2021\n",
    "#### ipc_vigente = 1.49\n",
    "#### ibr_nmv_vigente = 1.714\n",
    "#### dtf_nta_vigente = 11.92\n",
    "#### el nombre de la base de datos, la ruta y el usuario son cualquiera"
   ]
  },
  {
   "cell_type": "code",
   "execution_count": null,
   "metadata": {},
   "outputs": [],
   "source": []
  },
  {
   "cell_type": "markdown",
   "metadata": {},
   "source": [
    "# 1.3 sql\n",
    "#### en un un pseudo codigo de python y  SQL: \n",
    "####  elimine  en postgres en  la \"tabla_historico_indicador\" los datos del 30 de de noviembre del 2020\n",
    "#### el nombre de la base de datos, la ruta y el usuario son cualquiera\n"
   ]
  },
  {
   "cell_type": "markdown",
   "metadata": {},
   "source": [
    "# 2 Programacion\n"
   ]
  },
  {
   "cell_type": "code",
   "execution_count": 2,
   "metadata": {},
   "outputs": [],
   "source": [
    "nombres =  [ \"nicolas\",\"samuel\",\"mario\",\"andrres\",\"camilo\"]\n",
    "\n",
    "estatura = [ 1.70, 1.72,  1.75,  1.90,  1.68 ]\n",
    "peso     = [ 67, 69,  72,  87,  65 ]\n",
    "\n",
    "señal_1 = [ False,True,True,True,False]\n",
    "señal_2 = [ True,True,False,True,True]\n",
    "\n",
    "\n",
    "\n",
    "##  1) construya  dicicionarios {nombre: estatura}, {nombre: peso}, {nombre: señal_1},, {nombre: señal_2}\n",
    "\n",
    "## 2) construya una funcion en la que se retorne un dicionario con {nombre: IMC} donde\n",
    "# (IMC) indice de masa corporal = peso dividido la estatura al cuadrado\n",
    "\n",
    "## 3) con los resultados construlla un df con las columnas \"nombre\"\t\"estatura\"\t\"peso\"\t\"imc\"\tseñal_1\tseñal_2 \n",
    "\n",
    "\n",
    "## 4) construya una funcion que recorra el dataframe \n",
    "#     y retorne el resultado  multiplicar  el \"imd\" por raiz cuadrada de la \"estatura\" donde la la señal_1 ==  True y la señal_2 sea == False\n",
    "#     para lo de mas retorne 0\n",
    "## 5) inserte los resultado del recorrido de la  funcion en una columna nueva del dataframe con el nombre de \"resultado\"\n",
    "## 6) separe en un nuevo dataframe los datos de \"camilo y de nicolas\"\n"
   ]
  },
  {
   "cell_type": "markdown",
   "metadata": {},
   "source": [
    "# 3 Algebra Lineal\n"
   ]
  },
  {
   "cell_type": "code",
   "execution_count": 3,
   "metadata": {},
   "outputs": [],
   "source": [
    "# resolver el sistema de ecuaciones lineales\n",
    "\n",
    "a = np.array([[1,3],[5,-1]])\n",
    "b = np.array([7,3])\n"
   ]
  },
  {
   "cell_type": "code",
   "execution_count": 4,
   "metadata": {},
   "outputs": [],
   "source": [
    "#hallar la magnitud del vector\n",
    "vector_x = np.array([4,3,5])\n",
    "\n",
    "#hallar el producto punto y/o  producto cruz para cada ejemplo donde aplique\n",
    "\n",
    "\n",
    "#ejemplo 1\n",
    "vector_1 = np.array([4,3,5])\n",
    "vector_2 = np.array([5,6,6])\n",
    "\n",
    "\n",
    "#ejemplo 2\n",
    "vector_3 = np.array([4,3])\n",
    "vector_4 = np.array([5,6,6])\n"
   ]
  },
  {
   "cell_type": "markdown",
   "metadata": {},
   "source": [
    "# 4 Optimizacion"
   ]
  },
  {
   "cell_type": "code",
   "execution_count": 5,
   "metadata": {},
   "outputs": [],
   "source": [
    "#Maximice la funcion objetivo\n",
    "#minimice la funcion objetivo\n",
    "#4 Activos\n",
    "#Indicadores...\n",
    "\n",
    "A1= 10\n",
    "A2= 3\n",
    "A3= 8\n",
    "A4= 6\n",
    "\n",
    "def restriccion_1(x):\n",
    "    return ((x[0])+ (x[1]) + (x[2])+ (x[3])) -1\n",
    "\n",
    "b1=(0, 1)\n",
    "b2=(0, 1)\n",
    "b3=(0, 1)\n",
    "b4=(0, 1)\n",
    "\n",
    "bnds = (b1,b2,b3,b4)\n",
    "\n",
    "def funcion_objetivo(x):\n",
    "    x1=x[0]\n",
    "    x2=x[1]\n",
    "    x3=x[2]\n",
    "    x4=x[3]\n",
    "    return (x1*A1)+(x2*A2)+(x3*A3)+(x4*A4)\n"
   ]
  },
  {
   "cell_type": "markdown",
   "metadata": {},
   "source": [
    "# 5 Machine learning"
   ]
  },
  {
   "cell_type": "code",
   "execution_count": 6,
   "metadata": {},
   "outputs": [],
   "source": [
    "\n",
    "# usando el excel \"prueba_opalo.xlsx\" hoja \"variables_mercados\" y usando un modelo de aprendizaje supervizado \n",
    "\n",
    "#hacer el pronostico de la variable \"colombia\", ojo tener en cuenta las otras variables\n"
   ]
  },
  {
   "cell_type": "markdown",
   "metadata": {},
   "source": [
    "# BONUS"
   ]
  },
  {
   "cell_type": "code",
   "execution_count": 7,
   "metadata": {},
   "outputs": [],
   "source": [
    "#1) usando el excel \"prueba_opalo.xlsx\" hoja \"variables_mercados\" variable \"colombia\"\n",
    "# calcular en una nueva columna el delta de variacion diario usando logaritmo natural\n",
    "# construir una nueva colommna en el df que tenga la desviacion estandar de una ventana movil de 10 dias  de las variacion diaria\n"
   ]
  },
  {
   "cell_type": "code",
   "execution_count": 8,
   "metadata": {},
   "outputs": [],
   "source": [
    "#2) CON LOS SIGUIENTES DATOS HACER UNA INTERPOLACION polinomica grado 2 Y \n",
    "#RETORNAR EL VALOR DE LA tasa Y  PARA 150 dias\n",
    "\n",
    "dias = [ (365*1), (365*5), (365*10)]\n",
    "tasa = [ 1, 1.5, 1.75]"
   ]
  },
  {
   "cell_type": "code",
   "execution_count": 9,
   "metadata": {},
   "outputs": [],
   "source": [
    "#3)sin usar internet\n",
    "# para que se usa  git pull origin master\n",
    "# \n"
   ]
  }
 ],
 "metadata": {
  "kernelspec": {
   "display_name": "Python 3",
   "language": "python",
   "name": "python3"
  },
  "language_info": {
   "codemirror_mode": {
    "name": "ipython",
    "version": 3
   },
   "file_extension": ".py",
   "mimetype": "text/x-python",
   "name": "python",
   "nbconvert_exporter": "python",
   "pygments_lexer": "ipython3",
   "version": "3.7.7"
  }
 },
 "nbformat": 4,
 "nbformat_minor": 4
}
