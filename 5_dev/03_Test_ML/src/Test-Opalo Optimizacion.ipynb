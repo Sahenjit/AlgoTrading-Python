{
 "cells": [
  {
   "cell_type": "markdown",
   "metadata": {},
   "source": [
    "# Prueba: Ópalo Quant Capital\n",
    "\n",
    "## 4 Optimizacion"
   ]
  },
  {
   "cell_type": "code",
   "execution_count": 1,
   "metadata": {},
   "outputs": [],
   "source": [
    "###################################################################################################\n",
    "# Project    : Prueba Opalo Quant Capital\n",
    "# Lenguaje   : Python / jupyter\n",
    "# Description: Seccion de Optimizacion\n",
    "#\n",
    "# References : \n",
    "# Git Control:\n",
    "# Author - Year:Camilo Blanco Vargas - 2020\n",
    "# Mail         :mail@camiloblanco.com \n",
    "###################################################################################################"
   ]
  },
  {
   "cell_type": "code",
   "execution_count": 2,
   "metadata": {},
   "outputs": [],
   "source": [
    "# Import the necesary libraries\n",
    "import math\n",
    "import numpy\n",
    "import numpy as np\n",
    "import pandas as pd\n",
    "import matplotlib.pyplot as plt\n",
    "import seaborn as sns\n",
    "from scipy.optimize import minimize"
   ]
  },
  {
   "cell_type": "code",
   "execution_count": 3,
   "metadata": {},
   "outputs": [],
   "source": [
    "#Maximice la funcion objetivo\n",
    "#Minimice la funcion objetivo\n",
    "#4 Activos, Indicadores...\n",
    "\n",
    "A1= 10\n",
    "A2= 3\n",
    "A3= 8\n",
    "A4= 6\n",
    "\n",
    "def restriccion_1(x):\n",
    "    return ((x[0])+ (x[1]) + (x[2])+ (x[3])) -1\n",
    "\n",
    "b1=(0, 1)\n",
    "b2=(0, 1)\n",
    "b3=(0, 1)\n",
    "b4=(0, 1)\n",
    "\n",
    "bnds = (b1,b2,b3,b4)\n",
    "\n",
    "def funcion_objetivo(x):\n",
    "    x1=x[0]\n",
    "    x2=x[1]\n",
    "    x3=x[2]\n",
    "    x4=x[3]\n",
    "    return (x1*A1)+(x2*A2)+(x3*A3)+(x4*A4)\n",
    "\n",
    "# Pre-analisis:\n",
    "# Estamos buscando los pesos porcentuales optimos de los activos en el portafilo\n",
    "# La funcion objetivo es una combinacion lineal de pesos (w), y la restriccion una igualdad\n",
    "# Asi, la region factible son los bordes de un hiperplano en R5\n",
    "# Por lo tanto, los optimos estan en las esquinas de la region factible, entonces:\n",
    "# Para maximizar la funcion el activo 1(w=10), al ser el mas pesado, debe tender a un peso del 100%\n",
    "# Para minimizar la funcion el activo 2(w=3), al ser el mas liviano, debe tender a un peso del 100%"
   ]
  },
  {
   "cell_type": "code",
   "execution_count": 4,
   "metadata": {},
   "outputs": [
    {
     "name": "stdout",
     "output_type": "stream",
     "text": [
      "El valor maximo de la funcion objetivo es: 10.000000000000083\n",
      "La solucion para el maximo es:\n",
      "x1 = 1.0\n",
      "x2 = 0.0\n",
      "x3 = 1.0380585280245214e-14\n",
      "x4 = 0.0\n"
     ]
    }
   ],
   "source": [
    "#Maximice la funcion objetivo\n",
    "\n",
    "#Define an inversed objective function to maximize...\n",
    "def funcion_objetivo_max(x):\n",
    "    x1=x[0]\n",
    "    x2=x[1]\n",
    "    x3=x[2]\n",
    "    x4=x[3]\n",
    "    return -((x1*A1)+(x2*A2)+(x3*A3)+(x4*A4))\n",
    "\n",
    "\n",
    "# Set initial point holding constraints\n",
    "x0=np.full((4, ), 0.25)\n",
    "\n",
    "#  Prepare constraints\n",
    "con1 = {'type': 'eq', 'fun': restriccion_1}\n",
    "cons = ([con1])\n",
    "\n",
    "# Solve using SLSQP\n",
    "solution = minimize(funcion_objetivo_max,x0,method='SLSQP',bounds=bnds,constraints=cons)\n",
    "x = solution.x\n",
    "\n",
    "# show final funcion_objetivo value\n",
    "print('El valor maximo de la funcion objetivo es: ' + str(funcion_objetivo(x)))\n",
    "\n",
    "# print solution\n",
    "print('La solucion para el maximo es:')\n",
    "print('x1 = ' + str(x[0]))\n",
    "print('x2 = ' + str(x[1]))\n",
    "print('x3 = ' + str(x[2]))\n",
    "print('x4 = ' + str(x[3]))"
   ]
  },
  {
   "cell_type": "code",
   "execution_count": 5,
   "metadata": {},
   "outputs": [
    {
     "name": "stdout",
     "output_type": "stream",
     "text": [
      "El valor minimo de la funcion objetivo es: 3.0000000000000204\n",
      "La solucion para el minimo es:\n",
      "x1 = 0.0\n",
      "x2 = 1.0\n",
      "x3 = 0.0\n",
      "x4 = 3.3861802251067274e-15\n"
     ]
    }
   ],
   "source": [
    "#Minimice la funcion objetivo\n",
    "\n",
    "# Solve using SLSQP\n",
    "solution = minimize(funcion_objetivo,x0,method='SLSQP',bounds=bnds,constraints=cons)\n",
    "x = solution.x\n",
    "\n",
    "# show final funcion_objetivo value\n",
    "print('El valor minimo de la funcion objetivo es: ' + str(funcion_objetivo(x)))\n",
    "\n",
    "# print solution\n",
    "print('La solucion para el minimo es:')\n",
    "print('x1 = ' + str(x[0]))\n",
    "print('x2 = ' + str(x[1]))\n",
    "print('x3 = ' + str(x[2]))\n",
    "print('x4 = ' + str(x[3]))"
   ]
  }
 ],
 "metadata": {
  "kernelspec": {
   "display_name": "Python 3",
   "language": "python",
   "name": "python3"
  },
  "language_info": {
   "codemirror_mode": {
    "name": "ipython",
    "version": 3
   },
   "file_extension": ".py",
   "mimetype": "text/x-python",
   "name": "python",
   "nbconvert_exporter": "python",
   "pygments_lexer": "ipython3",
   "version": "3.7.7"
  }
 },
 "nbformat": 4,
 "nbformat_minor": 4
}
